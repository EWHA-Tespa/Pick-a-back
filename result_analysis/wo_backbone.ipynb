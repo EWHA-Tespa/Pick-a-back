{
 "cells": [
  {
   "cell_type": "markdown",
   "metadata": {},
   "source": [
    "# Setting"
   ]
  },
  {
   "cell_type": "code",
   "execution_count": 11,
   "metadata": {},
   "outputs": [],
   "source": [
    "import numpy as np\n",
    "import pandas as pd\n",
    "import plotly.express as px         # pip install plotly 터미널에서 돌릴 것\n",
    "import plotly.graph_objects as go\n",
    "import plotly.io as pio\n",
    "from plotly.subplots import make_subplots\n",
    "\n",
    "\n",
    "pio.templates.default = 'plotly_dark' # 어두운모드 설정. 지우면 밝은 모드로 돌아옵니다."
   ]
  },
  {
   "cell_type": "code",
   "execution_count": 12,
   "metadata": {},
   "outputs": [],
   "source": [
    "DATASETS = [\n",
    "    # 'None',\n",
    "    'aquatic_mammals',\n",
    "    'fish',\n",
    "    'flowers',\n",
    "    'food_containers',\n",
    "    'fruit_and_vegetables',\n",
    "    'household_electrical_devices',\n",
    "    'household_furniture',\n",
    "    'insects',\n",
    "    'large_carnivores',\n",
    "    'large_man-made_outdoor_things',\n",
    "    'large_natural_outdoor_scenes',\n",
    "    'large_omnivores_and_herbivores',\n",
    "    'medium_mammals',\n",
    "    'non-insect_invertebrates',\n",
    "    'people',\n",
    "    'reptiles',\n",
    "    'small_mammals',\n",
    "    'trees',\n",
    "    'vehicles_1',\n",
    "    'vehicles_2' ]"
   ]
  },
  {
   "cell_type": "code",
   "execution_count": null,
   "metadata": {},
   "outputs": [],
   "source": [
    "result_path = \"../wo_backbone_train_log/\"\n",
    "result = {}\n",
    "combined_results = {}\n",
    "rnd_dataframes = {}\n",
    "\n",
    "for dataset in DATASETS:\n",
    "    df = pd.read_csv(result_path + f'wo_backbone_results_{dataset}.csv')\n",
    "    \n",
    "    train_df = df[df[\"Mode\"] == \"train\"].reset_index(drop=True)\n",
    "    val_df = df[df[\"Mode\"] == \"val\"].reset_index(drop=True)\n",
    "    \n",
    "    result[dataset] = {\n",
    "        \"train\": train_df,\n",
    "        \"val\": val_df\n",
    "    }\n",
    "    combined_data = []\n",
    "    train = result[dataset][\"train\"]\n",
    "    val = result[dataset][\"val\"]\n",
    "\n",
    "    train_index, val_index = 0, 0\n",
    "\n",
    "    while train_index < len(train) and val_index<len(val):\n",
    "        train_epoch = train.loc[train_index, \"Epoch\"]\n",
    "        val_epoch = val.loc[val_index, \"Epoch\"]\n",
    "\n",
    "        if train_epoch == val_epoch and train_epoch != 0:\n",
    "            combined_data.append({\n",
    "                \"Epoch\": train_epoch,\n",
    "                \"Train_loss\": train.loc[train_index, \"Loss\"],\n",
    "                \"Train_accuracy\": train.loc[train_index, \"Accuracy\"],\n",
    "                \"Val_loss\": val.loc[val_index, \"Loss\"],\n",
    "                \"Val_accuracy\": val.loc[val_index, \"Accuracy\"]\n",
    "            })\n",
    "            train_index += 1\n",
    "            val_index += 1\n",
    "        elif train_epoch < val_epoch:\n",
    "            train_index += 1\n",
    "        else:\n",
    "            val_index += 1\n",
    "    combined_df = pd.DataFrame(combined_data)\n",
    "    combined_results[dataset] = combined_df\n",
    "    \n",
    "    # pruning 단계: 10개 20 epoch씩 rnd_i에 저장\n",
    "    start_index = 100\n",
    "    rnd_count = 1\n",
    "    while start_index < len(combined_df):\n",
    "        rnd_data = combined_df.iloc[start_index:start_index+20]\n",
    "        if len(rnd_data) == 20 and (rnd_data[\"Epoch\"].iloc[0]==1 and rnd_data[\"Epoch\"].iloc[-1]==20):\n",
    "            rnd_dataframes[f\"{dataset}_prune_{rnd_count}\"] = rnd_data.reset_index(drop=True)\n",
    "            rnd_count += 1\n",
    "        start_index += 20"
   ]
  },
  {
   "cell_type": "code",
   "execution_count": 69,
   "metadata": {},
   "outputs": [
    {
     "data": {
      "text/plain": [
       "20"
      ]
     },
     "execution_count": 69,
     "metadata": {},
     "output_type": "execute_result"
    }
   ],
   "source": [
    "len(result)"
   ]
  },
  {
   "cell_type": "code",
   "execution_count": 68,
   "metadata": {},
   "outputs": [
    {
     "data": {
      "text/html": [
       "<div>\n",
       "<style scoped>\n",
       "    .dataframe tbody tr th:only-of-type {\n",
       "        vertical-align: middle;\n",
       "    }\n",
       "\n",
       "    .dataframe tbody tr th {\n",
       "        vertical-align: top;\n",
       "    }\n",
       "\n",
       "    .dataframe thead th {\n",
       "        text-align: right;\n",
       "    }\n",
       "</style>\n",
       "<table border=\"1\" class=\"dataframe\">\n",
       "  <thead>\n",
       "    <tr style=\"text-align: right;\">\n",
       "      <th></th>\n",
       "      <th>Epoch</th>\n",
       "      <th>Train_loss</th>\n",
       "      <th>Train_accuracy</th>\n",
       "      <th>Val_loss</th>\n",
       "      <th>Val_accuracy</th>\n",
       "    </tr>\n",
       "  </thead>\n",
       "  <tbody>\n",
       "    <tr>\n",
       "      <th>0</th>\n",
       "      <td>1</td>\n",
       "      <td>1.610</td>\n",
       "      <td>18.96</td>\n",
       "      <td>1.608</td>\n",
       "      <td>20.6</td>\n",
       "    </tr>\n",
       "    <tr>\n",
       "      <th>1</th>\n",
       "      <td>2</td>\n",
       "      <td>1.606</td>\n",
       "      <td>21.04</td>\n",
       "      <td>1.586</td>\n",
       "      <td>32.4</td>\n",
       "    </tr>\n",
       "    <tr>\n",
       "      <th>2</th>\n",
       "      <td>3</td>\n",
       "      <td>1.492</td>\n",
       "      <td>32.28</td>\n",
       "      <td>1.422</td>\n",
       "      <td>33.4</td>\n",
       "    </tr>\n",
       "    <tr>\n",
       "      <th>3</th>\n",
       "      <td>4</td>\n",
       "      <td>1.379</td>\n",
       "      <td>32.84</td>\n",
       "      <td>1.328</td>\n",
       "      <td>33.8</td>\n",
       "    </tr>\n",
       "    <tr>\n",
       "      <th>4</th>\n",
       "      <td>5</td>\n",
       "      <td>1.324</td>\n",
       "      <td>39.60</td>\n",
       "      <td>1.277</td>\n",
       "      <td>40.4</td>\n",
       "    </tr>\n",
       "    <tr>\n",
       "      <th>...</th>\n",
       "      <td>...</td>\n",
       "      <td>...</td>\n",
       "      <td>...</td>\n",
       "      <td>...</td>\n",
       "      <td>...</td>\n",
       "    </tr>\n",
       "    <tr>\n",
       "      <th>295</th>\n",
       "      <td>16</td>\n",
       "      <td>0.803</td>\n",
       "      <td>69.32</td>\n",
       "      <td>0.831</td>\n",
       "      <td>66.8</td>\n",
       "    </tr>\n",
       "    <tr>\n",
       "      <th>296</th>\n",
       "      <td>17</td>\n",
       "      <td>0.784</td>\n",
       "      <td>69.80</td>\n",
       "      <td>0.824</td>\n",
       "      <td>66.8</td>\n",
       "    </tr>\n",
       "    <tr>\n",
       "      <th>297</th>\n",
       "      <td>18</td>\n",
       "      <td>0.803</td>\n",
       "      <td>68.80</td>\n",
       "      <td>0.818</td>\n",
       "      <td>66.8</td>\n",
       "    </tr>\n",
       "    <tr>\n",
       "      <th>298</th>\n",
       "      <td>19</td>\n",
       "      <td>0.772</td>\n",
       "      <td>70.12</td>\n",
       "      <td>0.826</td>\n",
       "      <td>66.0</td>\n",
       "    </tr>\n",
       "    <tr>\n",
       "      <th>299</th>\n",
       "      <td>20</td>\n",
       "      <td>0.788</td>\n",
       "      <td>69.40</td>\n",
       "      <td>0.822</td>\n",
       "      <td>66.6</td>\n",
       "    </tr>\n",
       "  </tbody>\n",
       "</table>\n",
       "<p>300 rows × 5 columns</p>\n",
       "</div>"
      ],
      "text/plain": [
       "     Epoch  Train_loss  Train_accuracy  Val_loss  Val_accuracy\n",
       "0        1       1.610           18.96     1.608          20.6\n",
       "1        2       1.606           21.04     1.586          32.4\n",
       "2        3       1.492           32.28     1.422          33.4\n",
       "3        4       1.379           32.84     1.328          33.8\n",
       "4        5       1.324           39.60     1.277          40.4\n",
       "..     ...         ...             ...       ...           ...\n",
       "295     16       0.803           69.32     0.831          66.8\n",
       "296     17       0.784           69.80     0.824          66.8\n",
       "297     18       0.803           68.80     0.818          66.8\n",
       "298     19       0.772           70.12     0.826          66.0\n",
       "299     20       0.788           69.40     0.822          66.6\n",
       "\n",
       "[300 rows x 5 columns]"
      ]
     },
     "execution_count": 68,
     "metadata": {},
     "output_type": "execute_result"
    }
   ],
   "source": [
    "combined_results[\"fish\"]"
   ]
  },
  {
   "cell_type": "code",
   "execution_count": 78,
   "metadata": {},
   "outputs": [
    {
     "name": "stdout",
     "output_type": "stream",
     "text": [
      "    Epoch  Train_loss  Train_accuracy  Val_loss  Val_accuracy\n",
      "0       1       0.638           75.60     0.753          72.4\n",
      "1       2       0.637           75.92     0.732          73.2\n",
      "2       3       0.634           76.44     0.748          71.8\n",
      "3       4       0.634           75.68     0.738          72.2\n",
      "4       5       0.643           74.88     0.739          71.8\n",
      "5       6       0.629           76.36     0.744          73.2\n",
      "6       7       0.629           76.20     0.737          72.0\n",
      "7       8       0.637           75.20     0.737          71.8\n",
      "8       9       0.624           75.48     0.741          72.4\n",
      "9      10       0.651           75.60     0.738          71.8\n",
      "10     11       0.635           75.80     0.734          73.2\n",
      "11     12       0.627           76.20     0.757          72.4\n",
      "12     13       0.639           75.64     0.751          71.6\n",
      "13     14       0.627           76.08     0.743          72.8\n",
      "14     15       0.637           75.32     0.747          70.4\n",
      "15     16       0.635           75.72     0.742          71.4\n",
      "16     17       0.639           75.72     0.743          71.2\n",
      "17     18       0.647           75.08     0.742          72.0\n",
      "18     19       0.625           75.52     0.754          70.8\n",
      "19     20       0.628           76.52     0.738          72.4\n"
     ]
    }
   ],
   "source": [
    "print(rnd_dataframes[\"fish_prune_1\"])"
   ]
  },
  {
   "cell_type": "markdown",
   "metadata": {},
   "source": [
    "# Function"
   ]
  },
  {
   "cell_type": "code",
   "execution_count": 59,
   "metadata": {},
   "outputs": [],
   "source": [
    "def compare_plot(dataset, metric_train, metric_val, x_axis):\n",
    "    fig = go.Figure()\n",
    "    df = combined_results[dataset]\n",
    "\n",
    "    # Train 데이터\n",
    "    fig.add_trace(go.Scatter(\n",
    "        x=df[x_axis],\n",
    "        y=df[train],\n",
    "        mode='lines',\n",
    "        name=f'{dataset} - Train {metric_train}'\n",
    "    ))\n",
    "    # Validation 데이터\n",
    "    fig.add_trace(go.Scatter(\n",
    "        x=df[x_axis],\n",
    "        y=df[val],\n",
    "        mode='lines',\n",
    "        name=f'{dataset} - Val {metric_val}'\n",
    "    ))\n",
    "\n",
    "    fig.update_layout(\n",
    "        title=f'{metric_train} & {metric_val} for {dataset}',\n",
    "        xaxis_title=x_axis,\n",
    "        yaxis_title=\"Value\"\n",
    "    )\n",
    "    fig.show()\n"
   ]
  },
  {
   "cell_type": "code",
   "execution_count": null,
   "metadata": {},
   "outputs": [],
   "source": [
    "def train_result(task, col_num, Train_loss, Val_loss, Train_accuracy, Val_accuracy, Epoch):\n",
    "    fig = make_subplots(rows=1, cols=col_num, subplot_titles=[task], specs=[[{\"secondary_y\": True}] * col_num])\n",
    "\n",
    "    df = combined_results[task].iloc[:100]  # 인덱스 0-99까지만 선택\n",
    "    row, col = 1, 1\n",
    "\n",
    "    # Training Loss\n",
    "    fig.add_trace(\n",
    "        go.Scatter(x=df[Epoch], y=df[Train_loss], mode='lines', name=f'Train Loss', line=dict(color='blue', dash='dash')),\n",
    "        row=row, col=col, secondary_y=False\n",
    "    )\n",
    "\n",
    "    # Validation Loss\n",
    "    fig.add_trace(\n",
    "        go.Scatter(x=df[Epoch], y=df[Val_loss], mode='lines', name=f'Val Loss', line=dict(color='red', dash='dash')),\n",
    "        row=row, col=col, secondary_y=False\n",
    "    )\n",
    "\n",
    "    # Training Accuracy (secondary y-axis)\n",
    "    fig.add_trace(\n",
    "        go.Scatter(x=df[Epoch], y=df[Train_accuracy], mode='lines', name=f'Train Accuracy', line=dict(color='purple')),\n",
    "        row=row, col=col, secondary_y=True\n",
    "    )\n",
    "\n",
    "    # Validation Accuracy (secondary y-axis)\n",
    "    fig.add_trace(\n",
    "        go.Scatter(x=df[Epoch], y=df[Val_accuracy], mode='lines', name=f'Val Accuracy', line=dict(color='green')),\n",
    "        row=row, col=col, secondary_y=True\n",
    "    )\n",
    "\n",
    "    # Layout 설정\n",
    "    fig.update_layout(\n",
    "        title=f\"{task} (First 100 Rows)\",\n",
    "        height=400,\n",
    "        width=1000,\n",
    "        legend=dict(orientation=\"h\", x=0.5, y=-0.1, xanchor=\"center\")\n",
    "    )\n",
    "\n",
    "    fig.show()\n",
    "\n",
    "def prune_result(task, col_num, Train_loss, Val_loss, Train_accuracy, Val_accuracy, Epoch):\n",
    "    prune_plots = [key for key in rnd_dataframes.keys() if key.startswith(f\"{task}_prune_\")]\n",
    "\n",
    "    # 행과 열 계산\n",
    "    rows = int(len(prune_plots) / col_num) + (1 if len(prune_plots) % col_num else 0)\n",
    "\n",
    "    # 서브플롯 생성\n",
    "    fig = make_subplots(rows=rows, cols=col_num, subplot_titles=prune_plots, specs=[[{\"secondary_y\": True}] * col_num] * rows)\n",
    "\n",
    "    for i, prune_key in enumerate(prune_plots):\n",
    "        df = rnd_dataframes[prune_key]  # {dataset}_prune_i 데이터\n",
    "        row = (i // col_num) + 1\n",
    "        col = (i % col_num) + 1\n",
    "\n",
    "        # Training Loss\n",
    "        fig.add_trace(\n",
    "            go.Scatter(x=df[Epoch], y=df[Train_loss], mode='lines', name=f'Train Loss', line=dict(color='blue', dash='dash')),\n",
    "            row=row, col=col, secondary_y=False\n",
    "        )\n",
    "\n",
    "        # Validation Loss\n",
    "        fig.add_trace(\n",
    "            go.Scatter(x=df[Epoch], y=df[Val_loss], mode='lines', name=f'Val Loss', line=dict(color='red', dash='dash')),\n",
    "            row=row, col=col, secondary_y=False\n",
    "        )\n",
    "\n",
    "        # Training Accuracy (secondary y-axis)\n",
    "        fig.add_trace(\n",
    "            go.Scatter(x=df[Epoch], y=df[Train_accuracy], mode='lines', name=f'Train Accuracy', line=dict(color='purple')),\n",
    "            row=row, col=col, secondary_y=True\n",
    "        )\n",
    "\n",
    "        # Validation Accuracy (secondary y-axis)\n",
    "        fig.add_trace(\n",
    "            go.Scatter(x=df[Epoch], y=df[Val_accuracy], mode='lines', name=f'Val Accuracy', line=dict(color='green')),\n",
    "            row=row, col=col, secondary_y=True\n",
    "        )\n",
    "\n",
    "    # 레이아웃 설정\n",
    "    fig.update_layout(\n",
    "        title=f\"{task} Prune Stages (Epoch 1-20)\",\n",
    "        height=300 * rows,\n",
    "        width=1000,\n",
    "        legend=dict(orientation=\"h\", x=0.5, y=-0.1, xanchor=\"center\")\n",
    "    )\n",
    "\n",
    "    fig.show()\n"
   ]
  },
  {
   "cell_type": "code",
   "execution_count": 97,
   "metadata": {},
   "outputs": [
    {
     "data": {
      "application/vnd.plotly.v1+json": {
       "config": {
        "plotlyServerURL": "https://plot.ly"
       },
       "data": [
        {
         "line": {
          "color": "blue",
          "dash": "dash"
         },
         "mode": "lines",
         "name": "Train Loss",
         "type": "scatter",
         "x": [
          1,
          2,
          3,
          4,
          5,
          6,
          7,
          8,
          9,
          10,
          11,
          12,
          13,
          14,
          15,
          16,
          17,
          18,
          19,
          20,
          21,
          22,
          23,
          24,
          25,
          26,
          27,
          28,
          29,
          30,
          31,
          32,
          33,
          34,
          35,
          36,
          37,
          38,
          39,
          40,
          41,
          42,
          43,
          44,
          45,
          46,
          47,
          48,
          49,
          50,
          51,
          52,
          53,
          54,
          55,
          56,
          57,
          58,
          59,
          60,
          61,
          62,
          63,
          64,
          65,
          66,
          67,
          68,
          69,
          70,
          71,
          72,
          73,
          74,
          75,
          76,
          77,
          78,
          79,
          80,
          81,
          82,
          83,
          84,
          85,
          86,
          87,
          88,
          89,
          90,
          91,
          92,
          93,
          94,
          95,
          96,
          97,
          98,
          99,
          100
         ],
         "xaxis": "x",
         "y": [
          1.61,
          1.606,
          1.492,
          1.379,
          1.324,
          1.285,
          1.25,
          1.207,
          1.168,
          1.156,
          1.15,
          1.101,
          1.108,
          1.081,
          1.07,
          1.059,
          1.007,
          0.978,
          0.978,
          0.94,
          0.921,
          0.934,
          0.91,
          0.899,
          0.905,
          0.855,
          0.882,
          0.874,
          0.852,
          0.868,
          0.866,
          0.838,
          0.848,
          0.821,
          0.827,
          0.81,
          0.816,
          0.802,
          0.796,
          0.804,
          0.801,
          0.819,
          0.765,
          0.787,
          0.783,
          0.771,
          0.745,
          0.745,
          0.747,
          0.751,
          0.698,
          0.688,
          0.685,
          0.678,
          0.674,
          0.684,
          0.674,
          0.668,
          0.675,
          0.668,
          0.654,
          0.671,
          0.659,
          0.666,
          0.652,
          0.657,
          0.66,
          0.665,
          0.661,
          0.652,
          0.656,
          0.649,
          0.666,
          0.644,
          0.637,
          0.663,
          0.651,
          0.659,
          0.644,
          0.637,
          0.645,
          0.639,
          0.617,
          0.633,
          0.627,
          0.644,
          0.637,
          0.646,
          0.64,
          0.638,
          0.629,
          0.644,
          0.634,
          0.612,
          0.631,
          0.63,
          0.62,
          0.644,
          0.622,
          0.633
         ],
         "yaxis": "y"
        },
        {
         "line": {
          "color": "red",
          "dash": "dash"
         },
         "mode": "lines",
         "name": "Val Loss",
         "type": "scatter",
         "x": [
          1,
          2,
          3,
          4,
          5,
          6,
          7,
          8,
          9,
          10,
          11,
          12,
          13,
          14,
          15,
          16,
          17,
          18,
          19,
          20,
          21,
          22,
          23,
          24,
          25,
          26,
          27,
          28,
          29,
          30,
          31,
          32,
          33,
          34,
          35,
          36,
          37,
          38,
          39,
          40,
          41,
          42,
          43,
          44,
          45,
          46,
          47,
          48,
          49,
          50,
          51,
          52,
          53,
          54,
          55,
          56,
          57,
          58,
          59,
          60,
          61,
          62,
          63,
          64,
          65,
          66,
          67,
          68,
          69,
          70,
          71,
          72,
          73,
          74,
          75,
          76,
          77,
          78,
          79,
          80,
          81,
          82,
          83,
          84,
          85,
          86,
          87,
          88,
          89,
          90,
          91,
          92,
          93,
          94,
          95,
          96,
          97,
          98,
          99,
          100
         ],
         "xaxis": "x",
         "y": [
          1.608,
          1.586,
          1.422,
          1.328,
          1.277,
          1.229,
          1.211,
          1.178,
          1.136,
          1.137,
          1.12,
          1.108,
          1.12,
          1.066,
          1.092,
          1.078,
          1.017,
          1.016,
          0.939,
          0.974,
          0.935,
          0.976,
          0.921,
          0.868,
          0.903,
          0.924,
          0.9,
          0.849,
          0.875,
          0.881,
          0.891,
          0.877,
          0.832,
          0.832,
          0.891,
          0.813,
          0.9,
          0.83,
          0.852,
          0.895,
          0.859,
          0.83,
          0.887,
          0.812,
          0.818,
          0.832,
          0.792,
          0.796,
          0.818,
          0.765,
          0.752,
          0.759,
          0.755,
          0.76,
          0.756,
          0.762,
          0.75,
          0.748,
          0.753,
          0.74,
          0.751,
          0.746,
          0.776,
          0.753,
          0.748,
          0.749,
          0.735,
          0.734,
          0.764,
          0.736,
          0.739,
          0.755,
          0.743,
          0.749,
          0.747,
          0.75,
          0.741,
          0.739,
          0.739,
          0.737,
          0.748,
          0.74,
          0.742,
          0.745,
          0.739,
          0.745,
          0.746,
          0.749,
          0.74,
          0.742,
          0.746,
          0.76,
          0.746,
          0.734,
          0.748,
          0.755,
          0.745,
          0.751,
          0.739,
          0.73
         ],
         "yaxis": "y"
        },
        {
         "line": {
          "color": "purple"
         },
         "mode": "lines",
         "name": "Train Accuracy",
         "type": "scatter",
         "x": [
          1,
          2,
          3,
          4,
          5,
          6,
          7,
          8,
          9,
          10,
          11,
          12,
          13,
          14,
          15,
          16,
          17,
          18,
          19,
          20,
          21,
          22,
          23,
          24,
          25,
          26,
          27,
          28,
          29,
          30,
          31,
          32,
          33,
          34,
          35,
          36,
          37,
          38,
          39,
          40,
          41,
          42,
          43,
          44,
          45,
          46,
          47,
          48,
          49,
          50,
          51,
          52,
          53,
          54,
          55,
          56,
          57,
          58,
          59,
          60,
          61,
          62,
          63,
          64,
          65,
          66,
          67,
          68,
          69,
          70,
          71,
          72,
          73,
          74,
          75,
          76,
          77,
          78,
          79,
          80,
          81,
          82,
          83,
          84,
          85,
          86,
          87,
          88,
          89,
          90,
          91,
          92,
          93,
          94,
          95,
          96,
          97,
          98,
          99,
          100
         ],
         "xaxis": "x",
         "y": [
          18.96,
          21.04,
          32.28,
          32.84,
          39.6,
          42.76,
          45.6,
          47.48,
          49.44,
          50.16,
          51,
          52.32,
          53.04,
          55.48,
          56.36,
          58.04,
          61.84,
          63.32,
          62.76,
          63.76,
          64.48,
          64.96,
          64.8,
          66.28,
          64.24,
          66.16,
          65.2,
          66.04,
          67.28,
          66.76,
          66.84,
          68.08,
          68,
          68.68,
          66.88,
          68.6,
          68.4,
          69.08,
          69.8,
          69,
          68.88,
          68.76,
          69.96,
          70.04,
          70.72,
          70.44,
          70.76,
          70.6,
          70.72,
          71.24,
          72.72,
          73.96,
          74.12,
          73.88,
          73.64,
          74.08,
          74.72,
          73.96,
          74.48,
          74.28,
          73.88,
          74.52,
          75.48,
          74.4,
          75.28,
          74.68,
          74.96,
          75.72,
          75.16,
          75.88,
          75.48,
          75.04,
          74.68,
          75.52,
          75.2,
          74.96,
          75.4,
          75.12,
          75.72,
          75.48,
          75.08,
          76.2,
          76.84,
          75.88,
          75.8,
          75.52,
          75.76,
          75.12,
          75.76,
          75.72,
          75.92,
          75.6,
          75.72,
          76.32,
          76.28,
          76.36,
          76.36,
          75.28,
          76.72,
          75.88
         ],
         "yaxis": "y2"
        },
        {
         "line": {
          "color": "green"
         },
         "mode": "lines",
         "name": "Val Accuracy",
         "type": "scatter",
         "x": [
          1,
          2,
          3,
          4,
          5,
          6,
          7,
          8,
          9,
          10,
          11,
          12,
          13,
          14,
          15,
          16,
          17,
          18,
          19,
          20,
          21,
          22,
          23,
          24,
          25,
          26,
          27,
          28,
          29,
          30,
          31,
          32,
          33,
          34,
          35,
          36,
          37,
          38,
          39,
          40,
          41,
          42,
          43,
          44,
          45,
          46,
          47,
          48,
          49,
          50,
          51,
          52,
          53,
          54,
          55,
          56,
          57,
          58,
          59,
          60,
          61,
          62,
          63,
          64,
          65,
          66,
          67,
          68,
          69,
          70,
          71,
          72,
          73,
          74,
          75,
          76,
          77,
          78,
          79,
          80,
          81,
          82,
          83,
          84,
          85,
          86,
          87,
          88,
          89,
          90,
          91,
          92,
          93,
          94,
          95,
          96,
          97,
          98,
          99,
          100
         ],
         "xaxis": "x",
         "y": [
          20.6,
          32.4,
          33.4,
          33.8,
          40.4,
          45,
          45.4,
          46,
          51.4,
          50,
          51.4,
          52,
          50.8,
          54.4,
          55.8,
          56.8,
          59.4,
          59.8,
          62.6,
          63.6,
          62.6,
          61,
          65.8,
          67,
          66,
          66.2,
          64.8,
          66,
          66.4,
          67.8,
          65.4,
          64.6,
          70.2,
          65.6,
          64,
          68.8,
          64.8,
          67,
          68.4,
          65.8,
          68.6,
          68.8,
          64.6,
          68.2,
          68.6,
          66.6,
          70,
          69.2,
          67.4,
          70.4,
          69.8,
          69.8,
          71,
          71.4,
          71.6,
          71.4,
          72.6,
          72.2,
          71.4,
          71.4,
          72,
          71.6,
          71,
          70.8,
          71.4,
          73,
          73,
          73.2,
          71,
          72.4,
          72.2,
          70.8,
          72,
          71.6,
          71.8,
          72.2,
          72.6,
          72.8,
          73.4,
          73,
          71.2,
          72.8,
          72.6,
          71.6,
          72.2,
          71.8,
          72.2,
          71.4,
          72.8,
          72.8,
          72.2,
          71.4,
          72,
          73.6,
          71.8,
          71.6,
          72,
          71.2,
          72.4,
          73
         ],
         "yaxis": "y2"
        }
       ],
       "layout": {
        "annotations": [
         {
          "font": {
           "size": 16
          },
          "showarrow": false,
          "text": "fish",
          "x": 0.47,
          "xanchor": "center",
          "xref": "paper",
          "y": 1,
          "yanchor": "bottom",
          "yref": "paper"
         }
        ],
        "height": 400,
        "legend": {
         "orientation": "h",
         "x": 0.5,
         "xanchor": "center",
         "y": -0.1
        },
        "template": {
         "data": {
          "bar": [
           {
            "error_x": {
             "color": "#f2f5fa"
            },
            "error_y": {
             "color": "#f2f5fa"
            },
            "marker": {
             "line": {
              "color": "rgb(17,17,17)",
              "width": 0.5
             },
             "pattern": {
              "fillmode": "overlay",
              "size": 10,
              "solidity": 0.2
             }
            },
            "type": "bar"
           }
          ],
          "barpolar": [
           {
            "marker": {
             "line": {
              "color": "rgb(17,17,17)",
              "width": 0.5
             },
             "pattern": {
              "fillmode": "overlay",
              "size": 10,
              "solidity": 0.2
             }
            },
            "type": "barpolar"
           }
          ],
          "carpet": [
           {
            "aaxis": {
             "endlinecolor": "#A2B1C6",
             "gridcolor": "#506784",
             "linecolor": "#506784",
             "minorgridcolor": "#506784",
             "startlinecolor": "#A2B1C6"
            },
            "baxis": {
             "endlinecolor": "#A2B1C6",
             "gridcolor": "#506784",
             "linecolor": "#506784",
             "minorgridcolor": "#506784",
             "startlinecolor": "#A2B1C6"
            },
            "type": "carpet"
           }
          ],
          "choropleth": [
           {
            "colorbar": {
             "outlinewidth": 0,
             "ticks": ""
            },
            "type": "choropleth"
           }
          ],
          "contour": [
           {
            "colorbar": {
             "outlinewidth": 0,
             "ticks": ""
            },
            "colorscale": [
             [
              0,
              "#0d0887"
             ],
             [
              0.1111111111111111,
              "#46039f"
             ],
             [
              0.2222222222222222,
              "#7201a8"
             ],
             [
              0.3333333333333333,
              "#9c179e"
             ],
             [
              0.4444444444444444,
              "#bd3786"
             ],
             [
              0.5555555555555556,
              "#d8576b"
             ],
             [
              0.6666666666666666,
              "#ed7953"
             ],
             [
              0.7777777777777778,
              "#fb9f3a"
             ],
             [
              0.8888888888888888,
              "#fdca26"
             ],
             [
              1,
              "#f0f921"
             ]
            ],
            "type": "contour"
           }
          ],
          "contourcarpet": [
           {
            "colorbar": {
             "outlinewidth": 0,
             "ticks": ""
            },
            "type": "contourcarpet"
           }
          ],
          "heatmap": [
           {
            "colorbar": {
             "outlinewidth": 0,
             "ticks": ""
            },
            "colorscale": [
             [
              0,
              "#0d0887"
             ],
             [
              0.1111111111111111,
              "#46039f"
             ],
             [
              0.2222222222222222,
              "#7201a8"
             ],
             [
              0.3333333333333333,
              "#9c179e"
             ],
             [
              0.4444444444444444,
              "#bd3786"
             ],
             [
              0.5555555555555556,
              "#d8576b"
             ],
             [
              0.6666666666666666,
              "#ed7953"
             ],
             [
              0.7777777777777778,
              "#fb9f3a"
             ],
             [
              0.8888888888888888,
              "#fdca26"
             ],
             [
              1,
              "#f0f921"
             ]
            ],
            "type": "heatmap"
           }
          ],
          "heatmapgl": [
           {
            "colorbar": {
             "outlinewidth": 0,
             "ticks": ""
            },
            "colorscale": [
             [
              0,
              "#0d0887"
             ],
             [
              0.1111111111111111,
              "#46039f"
             ],
             [
              0.2222222222222222,
              "#7201a8"
             ],
             [
              0.3333333333333333,
              "#9c179e"
             ],
             [
              0.4444444444444444,
              "#bd3786"
             ],
             [
              0.5555555555555556,
              "#d8576b"
             ],
             [
              0.6666666666666666,
              "#ed7953"
             ],
             [
              0.7777777777777778,
              "#fb9f3a"
             ],
             [
              0.8888888888888888,
              "#fdca26"
             ],
             [
              1,
              "#f0f921"
             ]
            ],
            "type": "heatmapgl"
           }
          ],
          "histogram": [
           {
            "marker": {
             "pattern": {
              "fillmode": "overlay",
              "size": 10,
              "solidity": 0.2
             }
            },
            "type": "histogram"
           }
          ],
          "histogram2d": [
           {
            "colorbar": {
             "outlinewidth": 0,
             "ticks": ""
            },
            "colorscale": [
             [
              0,
              "#0d0887"
             ],
             [
              0.1111111111111111,
              "#46039f"
             ],
             [
              0.2222222222222222,
              "#7201a8"
             ],
             [
              0.3333333333333333,
              "#9c179e"
             ],
             [
              0.4444444444444444,
              "#bd3786"
             ],
             [
              0.5555555555555556,
              "#d8576b"
             ],
             [
              0.6666666666666666,
              "#ed7953"
             ],
             [
              0.7777777777777778,
              "#fb9f3a"
             ],
             [
              0.8888888888888888,
              "#fdca26"
             ],
             [
              1,
              "#f0f921"
             ]
            ],
            "type": "histogram2d"
           }
          ],
          "histogram2dcontour": [
           {
            "colorbar": {
             "outlinewidth": 0,
             "ticks": ""
            },
            "colorscale": [
             [
              0,
              "#0d0887"
             ],
             [
              0.1111111111111111,
              "#46039f"
             ],
             [
              0.2222222222222222,
              "#7201a8"
             ],
             [
              0.3333333333333333,
              "#9c179e"
             ],
             [
              0.4444444444444444,
              "#bd3786"
             ],
             [
              0.5555555555555556,
              "#d8576b"
             ],
             [
              0.6666666666666666,
              "#ed7953"
             ],
             [
              0.7777777777777778,
              "#fb9f3a"
             ],
             [
              0.8888888888888888,
              "#fdca26"
             ],
             [
              1,
              "#f0f921"
             ]
            ],
            "type": "histogram2dcontour"
           }
          ],
          "mesh3d": [
           {
            "colorbar": {
             "outlinewidth": 0,
             "ticks": ""
            },
            "type": "mesh3d"
           }
          ],
          "parcoords": [
           {
            "line": {
             "colorbar": {
              "outlinewidth": 0,
              "ticks": ""
             }
            },
            "type": "parcoords"
           }
          ],
          "pie": [
           {
            "automargin": true,
            "type": "pie"
           }
          ],
          "scatter": [
           {
            "marker": {
             "line": {
              "color": "#283442"
             }
            },
            "type": "scatter"
           }
          ],
          "scatter3d": [
           {
            "line": {
             "colorbar": {
              "outlinewidth": 0,
              "ticks": ""
             }
            },
            "marker": {
             "colorbar": {
              "outlinewidth": 0,
              "ticks": ""
             }
            },
            "type": "scatter3d"
           }
          ],
          "scattercarpet": [
           {
            "marker": {
             "colorbar": {
              "outlinewidth": 0,
              "ticks": ""
             }
            },
            "type": "scattercarpet"
           }
          ],
          "scattergeo": [
           {
            "marker": {
             "colorbar": {
              "outlinewidth": 0,
              "ticks": ""
             }
            },
            "type": "scattergeo"
           }
          ],
          "scattergl": [
           {
            "marker": {
             "line": {
              "color": "#283442"
             }
            },
            "type": "scattergl"
           }
          ],
          "scattermapbox": [
           {
            "marker": {
             "colorbar": {
              "outlinewidth": 0,
              "ticks": ""
             }
            },
            "type": "scattermapbox"
           }
          ],
          "scatterpolar": [
           {
            "marker": {
             "colorbar": {
              "outlinewidth": 0,
              "ticks": ""
             }
            },
            "type": "scatterpolar"
           }
          ],
          "scatterpolargl": [
           {
            "marker": {
             "colorbar": {
              "outlinewidth": 0,
              "ticks": ""
             }
            },
            "type": "scatterpolargl"
           }
          ],
          "scatterternary": [
           {
            "marker": {
             "colorbar": {
              "outlinewidth": 0,
              "ticks": ""
             }
            },
            "type": "scatterternary"
           }
          ],
          "surface": [
           {
            "colorbar": {
             "outlinewidth": 0,
             "ticks": ""
            },
            "colorscale": [
             [
              0,
              "#0d0887"
             ],
             [
              0.1111111111111111,
              "#46039f"
             ],
             [
              0.2222222222222222,
              "#7201a8"
             ],
             [
              0.3333333333333333,
              "#9c179e"
             ],
             [
              0.4444444444444444,
              "#bd3786"
             ],
             [
              0.5555555555555556,
              "#d8576b"
             ],
             [
              0.6666666666666666,
              "#ed7953"
             ],
             [
              0.7777777777777778,
              "#fb9f3a"
             ],
             [
              0.8888888888888888,
              "#fdca26"
             ],
             [
              1,
              "#f0f921"
             ]
            ],
            "type": "surface"
           }
          ],
          "table": [
           {
            "cells": {
             "fill": {
              "color": "#506784"
             },
             "line": {
              "color": "rgb(17,17,17)"
             }
            },
            "header": {
             "fill": {
              "color": "#2a3f5f"
             },
             "line": {
              "color": "rgb(17,17,17)"
             }
            },
            "type": "table"
           }
          ]
         },
         "layout": {
          "annotationdefaults": {
           "arrowcolor": "#f2f5fa",
           "arrowhead": 0,
           "arrowwidth": 1
          },
          "autotypenumbers": "strict",
          "coloraxis": {
           "colorbar": {
            "outlinewidth": 0,
            "ticks": ""
           }
          },
          "colorscale": {
           "diverging": [
            [
             0,
             "#8e0152"
            ],
            [
             0.1,
             "#c51b7d"
            ],
            [
             0.2,
             "#de77ae"
            ],
            [
             0.3,
             "#f1b6da"
            ],
            [
             0.4,
             "#fde0ef"
            ],
            [
             0.5,
             "#f7f7f7"
            ],
            [
             0.6,
             "#e6f5d0"
            ],
            [
             0.7,
             "#b8e186"
            ],
            [
             0.8,
             "#7fbc41"
            ],
            [
             0.9,
             "#4d9221"
            ],
            [
             1,
             "#276419"
            ]
           ],
           "sequential": [
            [
             0,
             "#0d0887"
            ],
            [
             0.1111111111111111,
             "#46039f"
            ],
            [
             0.2222222222222222,
             "#7201a8"
            ],
            [
             0.3333333333333333,
             "#9c179e"
            ],
            [
             0.4444444444444444,
             "#bd3786"
            ],
            [
             0.5555555555555556,
             "#d8576b"
            ],
            [
             0.6666666666666666,
             "#ed7953"
            ],
            [
             0.7777777777777778,
             "#fb9f3a"
            ],
            [
             0.8888888888888888,
             "#fdca26"
            ],
            [
             1,
             "#f0f921"
            ]
           ],
           "sequentialminus": [
            [
             0,
             "#0d0887"
            ],
            [
             0.1111111111111111,
             "#46039f"
            ],
            [
             0.2222222222222222,
             "#7201a8"
            ],
            [
             0.3333333333333333,
             "#9c179e"
            ],
            [
             0.4444444444444444,
             "#bd3786"
            ],
            [
             0.5555555555555556,
             "#d8576b"
            ],
            [
             0.6666666666666666,
             "#ed7953"
            ],
            [
             0.7777777777777778,
             "#fb9f3a"
            ],
            [
             0.8888888888888888,
             "#fdca26"
            ],
            [
             1,
             "#f0f921"
            ]
           ]
          },
          "colorway": [
           "#636efa",
           "#EF553B",
           "#00cc96",
           "#ab63fa",
           "#FFA15A",
           "#19d3f3",
           "#FF6692",
           "#B6E880",
           "#FF97FF",
           "#FECB52"
          ],
          "font": {
           "color": "#f2f5fa"
          },
          "geo": {
           "bgcolor": "rgb(17,17,17)",
           "lakecolor": "rgb(17,17,17)",
           "landcolor": "rgb(17,17,17)",
           "showlakes": true,
           "showland": true,
           "subunitcolor": "#506784"
          },
          "hoverlabel": {
           "align": "left"
          },
          "hovermode": "closest",
          "mapbox": {
           "style": "dark"
          },
          "paper_bgcolor": "rgb(17,17,17)",
          "plot_bgcolor": "rgb(17,17,17)",
          "polar": {
           "angularaxis": {
            "gridcolor": "#506784",
            "linecolor": "#506784",
            "ticks": ""
           },
           "bgcolor": "rgb(17,17,17)",
           "radialaxis": {
            "gridcolor": "#506784",
            "linecolor": "#506784",
            "ticks": ""
           }
          },
          "scene": {
           "xaxis": {
            "backgroundcolor": "rgb(17,17,17)",
            "gridcolor": "#506784",
            "gridwidth": 2,
            "linecolor": "#506784",
            "showbackground": true,
            "ticks": "",
            "zerolinecolor": "#C8D4E3"
           },
           "yaxis": {
            "backgroundcolor": "rgb(17,17,17)",
            "gridcolor": "#506784",
            "gridwidth": 2,
            "linecolor": "#506784",
            "showbackground": true,
            "ticks": "",
            "zerolinecolor": "#C8D4E3"
           },
           "zaxis": {
            "backgroundcolor": "rgb(17,17,17)",
            "gridcolor": "#506784",
            "gridwidth": 2,
            "linecolor": "#506784",
            "showbackground": true,
            "ticks": "",
            "zerolinecolor": "#C8D4E3"
           }
          },
          "shapedefaults": {
           "line": {
            "color": "#f2f5fa"
           }
          },
          "sliderdefaults": {
           "bgcolor": "#C8D4E3",
           "bordercolor": "rgb(17,17,17)",
           "borderwidth": 1,
           "tickwidth": 0
          },
          "ternary": {
           "aaxis": {
            "gridcolor": "#506784",
            "linecolor": "#506784",
            "ticks": ""
           },
           "baxis": {
            "gridcolor": "#506784",
            "linecolor": "#506784",
            "ticks": ""
           },
           "bgcolor": "rgb(17,17,17)",
           "caxis": {
            "gridcolor": "#506784",
            "linecolor": "#506784",
            "ticks": ""
           }
          },
          "title": {
           "x": 0.05
          },
          "updatemenudefaults": {
           "bgcolor": "#506784",
           "borderwidth": 0
          },
          "xaxis": {
           "automargin": true,
           "gridcolor": "#283442",
           "linecolor": "#506784",
           "ticks": "",
           "title": {
            "standoff": 15
           },
           "zerolinecolor": "#283442",
           "zerolinewidth": 2
          },
          "yaxis": {
           "automargin": true,
           "gridcolor": "#283442",
           "linecolor": "#506784",
           "ticks": "",
           "title": {
            "standoff": 15
           },
           "zerolinecolor": "#283442",
           "zerolinewidth": 2
          }
         }
        },
        "title": {
         "text": "fish (First 100 Rows)"
        },
        "width": 1000,
        "xaxis": {
         "anchor": "y",
         "domain": [
          0,
          0.94
         ]
        },
        "yaxis": {
         "anchor": "x",
         "domain": [
          0,
          1
         ]
        },
        "yaxis2": {
         "anchor": "x",
         "overlaying": "y",
         "side": "right"
        }
       }
      },
      "text/html": [
       "<div>                            <div id=\"895bf0a6-1d09-44eb-a477-01e73d0d4c21\" class=\"plotly-graph-div\" style=\"height:400px; width:1000px;\"></div>            <script type=\"text/javascript\">                require([\"plotly\"], function(Plotly) {                    window.PLOTLYENV=window.PLOTLYENV || {};                                    if (document.getElementById(\"895bf0a6-1d09-44eb-a477-01e73d0d4c21\")) {                    Plotly.newPlot(                        \"895bf0a6-1d09-44eb-a477-01e73d0d4c21\",                        [{\"line\":{\"color\":\"blue\",\"dash\":\"dash\"},\"mode\":\"lines\",\"name\":\"Train Loss\",\"x\":[1,2,3,4,5,6,7,8,9,10,11,12,13,14,15,16,17,18,19,20,21,22,23,24,25,26,27,28,29,30,31,32,33,34,35,36,37,38,39,40,41,42,43,44,45,46,47,48,49,50,51,52,53,54,55,56,57,58,59,60,61,62,63,64,65,66,67,68,69,70,71,72,73,74,75,76,77,78,79,80,81,82,83,84,85,86,87,88,89,90,91,92,93,94,95,96,97,98,99,100],\"y\":[1.61,1.606,1.492,1.379,1.324,1.285,1.25,1.207,1.168,1.156,1.15,1.101,1.108,1.081,1.07,1.059,1.007,0.978,0.978,0.94,0.921,0.934,0.91,0.899,0.905,0.855,0.882,0.874,0.852,0.868,0.866,0.838,0.848,0.821,0.827,0.81,0.816,0.802,0.796,0.804,0.801,0.819,0.765,0.787,0.783,0.771,0.745,0.745,0.747,0.751,0.698,0.688,0.685,0.678,0.674,0.684,0.674,0.668,0.675,0.668,0.654,0.671,0.659,0.666,0.652,0.657,0.66,0.665,0.661,0.652,0.656,0.649,0.666,0.644,0.637,0.663,0.651,0.659,0.644,0.637,0.645,0.639,0.617,0.633,0.627,0.644,0.637,0.646,0.64,0.638,0.629,0.644,0.634,0.612,0.631,0.63,0.62,0.644,0.622,0.633],\"type\":\"scatter\",\"xaxis\":\"x\",\"yaxis\":\"y\"},{\"line\":{\"color\":\"red\",\"dash\":\"dash\"},\"mode\":\"lines\",\"name\":\"Val Loss\",\"x\":[1,2,3,4,5,6,7,8,9,10,11,12,13,14,15,16,17,18,19,20,21,22,23,24,25,26,27,28,29,30,31,32,33,34,35,36,37,38,39,40,41,42,43,44,45,46,47,48,49,50,51,52,53,54,55,56,57,58,59,60,61,62,63,64,65,66,67,68,69,70,71,72,73,74,75,76,77,78,79,80,81,82,83,84,85,86,87,88,89,90,91,92,93,94,95,96,97,98,99,100],\"y\":[1.608,1.586,1.422,1.328,1.277,1.229,1.211,1.178,1.136,1.137,1.12,1.108,1.12,1.066,1.092,1.078,1.017,1.016,0.939,0.974,0.935,0.976,0.921,0.868,0.903,0.924,0.9,0.849,0.875,0.881,0.891,0.877,0.832,0.832,0.891,0.813,0.9,0.83,0.852,0.895,0.859,0.83,0.887,0.812,0.818,0.832,0.792,0.796,0.818,0.765,0.752,0.759,0.755,0.76,0.756,0.762,0.75,0.748,0.753,0.74,0.751,0.746,0.776,0.753,0.748,0.749,0.735,0.734,0.764,0.736,0.739,0.755,0.743,0.749,0.747,0.75,0.741,0.739,0.739,0.737,0.748,0.74,0.742,0.745,0.739,0.745,0.746,0.749,0.74,0.742,0.746,0.76,0.746,0.734,0.748,0.755,0.745,0.751,0.739,0.73],\"type\":\"scatter\",\"xaxis\":\"x\",\"yaxis\":\"y\"},{\"line\":{\"color\":\"purple\"},\"mode\":\"lines\",\"name\":\"Train Accuracy\",\"x\":[1,2,3,4,5,6,7,8,9,10,11,12,13,14,15,16,17,18,19,20,21,22,23,24,25,26,27,28,29,30,31,32,33,34,35,36,37,38,39,40,41,42,43,44,45,46,47,48,49,50,51,52,53,54,55,56,57,58,59,60,61,62,63,64,65,66,67,68,69,70,71,72,73,74,75,76,77,78,79,80,81,82,83,84,85,86,87,88,89,90,91,92,93,94,95,96,97,98,99,100],\"y\":[18.96,21.04,32.28,32.84,39.6,42.76,45.6,47.48,49.44,50.16,51.0,52.32,53.04,55.48,56.36,58.04,61.84,63.32,62.76,63.76,64.48,64.96,64.8,66.28,64.24,66.16,65.2,66.04,67.28,66.76,66.84,68.08,68.0,68.68,66.88,68.6,68.4,69.08,69.8,69.0,68.88,68.76,69.96,70.04,70.72,70.44,70.76,70.6,70.72,71.24,72.72,73.96,74.12,73.88,73.64,74.08,74.72,73.96,74.48,74.28,73.88,74.52,75.48,74.4,75.28,74.68,74.96,75.72,75.16,75.88,75.48,75.04,74.68,75.52,75.2,74.96,75.4,75.12,75.72,75.48,75.08,76.2,76.84,75.88,75.8,75.52,75.76,75.12,75.76,75.72,75.92,75.6,75.72,76.32,76.28,76.36,76.36,75.28,76.72,75.88],\"type\":\"scatter\",\"xaxis\":\"x\",\"yaxis\":\"y2\"},{\"line\":{\"color\":\"green\"},\"mode\":\"lines\",\"name\":\"Val Accuracy\",\"x\":[1,2,3,4,5,6,7,8,9,10,11,12,13,14,15,16,17,18,19,20,21,22,23,24,25,26,27,28,29,30,31,32,33,34,35,36,37,38,39,40,41,42,43,44,45,46,47,48,49,50,51,52,53,54,55,56,57,58,59,60,61,62,63,64,65,66,67,68,69,70,71,72,73,74,75,76,77,78,79,80,81,82,83,84,85,86,87,88,89,90,91,92,93,94,95,96,97,98,99,100],\"y\":[20.6,32.4,33.4,33.8,40.4,45.0,45.4,46.0,51.4,50.0,51.4,52.0,50.8,54.4,55.8,56.8,59.4,59.8,62.6,63.6,62.6,61.0,65.8,67.0,66.0,66.2,64.8,66.0,66.4,67.8,65.4,64.6,70.2,65.6,64.0,68.8,64.8,67.0,68.4,65.8,68.6,68.8,64.6,68.2,68.6,66.6,70.0,69.2,67.4,70.4,69.8,69.8,71.0,71.4,71.6,71.4,72.6,72.2,71.4,71.4,72.0,71.6,71.0,70.8,71.4,73.0,73.0,73.2,71.0,72.4,72.2,70.8,72.0,71.6,71.8,72.2,72.6,72.8,73.4,73.0,71.2,72.8,72.6,71.6,72.2,71.8,72.2,71.4,72.8,72.8,72.2,71.4,72.0,73.6,71.8,71.6,72.0,71.2,72.4,73.0],\"type\":\"scatter\",\"xaxis\":\"x\",\"yaxis\":\"y2\"}],                        {\"template\":{\"data\":{\"histogram2dcontour\":[{\"type\":\"histogram2dcontour\",\"colorbar\":{\"outlinewidth\":0,\"ticks\":\"\"},\"colorscale\":[[0.0,\"#0d0887\"],[0.1111111111111111,\"#46039f\"],[0.2222222222222222,\"#7201a8\"],[0.3333333333333333,\"#9c179e\"],[0.4444444444444444,\"#bd3786\"],[0.5555555555555556,\"#d8576b\"],[0.6666666666666666,\"#ed7953\"],[0.7777777777777778,\"#fb9f3a\"],[0.8888888888888888,\"#fdca26\"],[1.0,\"#f0f921\"]]}],\"choropleth\":[{\"type\":\"choropleth\",\"colorbar\":{\"outlinewidth\":0,\"ticks\":\"\"}}],\"histogram2d\":[{\"type\":\"histogram2d\",\"colorbar\":{\"outlinewidth\":0,\"ticks\":\"\"},\"colorscale\":[[0.0,\"#0d0887\"],[0.1111111111111111,\"#46039f\"],[0.2222222222222222,\"#7201a8\"],[0.3333333333333333,\"#9c179e\"],[0.4444444444444444,\"#bd3786\"],[0.5555555555555556,\"#d8576b\"],[0.6666666666666666,\"#ed7953\"],[0.7777777777777778,\"#fb9f3a\"],[0.8888888888888888,\"#fdca26\"],[1.0,\"#f0f921\"]]}],\"heatmap\":[{\"type\":\"heatmap\",\"colorbar\":{\"outlinewidth\":0,\"ticks\":\"\"},\"colorscale\":[[0.0,\"#0d0887\"],[0.1111111111111111,\"#46039f\"],[0.2222222222222222,\"#7201a8\"],[0.3333333333333333,\"#9c179e\"],[0.4444444444444444,\"#bd3786\"],[0.5555555555555556,\"#d8576b\"],[0.6666666666666666,\"#ed7953\"],[0.7777777777777778,\"#fb9f3a\"],[0.8888888888888888,\"#fdca26\"],[1.0,\"#f0f921\"]]}],\"heatmapgl\":[{\"type\":\"heatmapgl\",\"colorbar\":{\"outlinewidth\":0,\"ticks\":\"\"},\"colorscale\":[[0.0,\"#0d0887\"],[0.1111111111111111,\"#46039f\"],[0.2222222222222222,\"#7201a8\"],[0.3333333333333333,\"#9c179e\"],[0.4444444444444444,\"#bd3786\"],[0.5555555555555556,\"#d8576b\"],[0.6666666666666666,\"#ed7953\"],[0.7777777777777778,\"#fb9f3a\"],[0.8888888888888888,\"#fdca26\"],[1.0,\"#f0f921\"]]}],\"contourcarpet\":[{\"type\":\"contourcarpet\",\"colorbar\":{\"outlinewidth\":0,\"ticks\":\"\"}}],\"contour\":[{\"type\":\"contour\",\"colorbar\":{\"outlinewidth\":0,\"ticks\":\"\"},\"colorscale\":[[0.0,\"#0d0887\"],[0.1111111111111111,\"#46039f\"],[0.2222222222222222,\"#7201a8\"],[0.3333333333333333,\"#9c179e\"],[0.4444444444444444,\"#bd3786\"],[0.5555555555555556,\"#d8576b\"],[0.6666666666666666,\"#ed7953\"],[0.7777777777777778,\"#fb9f3a\"],[0.8888888888888888,\"#fdca26\"],[1.0,\"#f0f921\"]]}],\"surface\":[{\"type\":\"surface\",\"colorbar\":{\"outlinewidth\":0,\"ticks\":\"\"},\"colorscale\":[[0.0,\"#0d0887\"],[0.1111111111111111,\"#46039f\"],[0.2222222222222222,\"#7201a8\"],[0.3333333333333333,\"#9c179e\"],[0.4444444444444444,\"#bd3786\"],[0.5555555555555556,\"#d8576b\"],[0.6666666666666666,\"#ed7953\"],[0.7777777777777778,\"#fb9f3a\"],[0.8888888888888888,\"#fdca26\"],[1.0,\"#f0f921\"]]}],\"mesh3d\":[{\"type\":\"mesh3d\",\"colorbar\":{\"outlinewidth\":0,\"ticks\":\"\"}}],\"scatter\":[{\"marker\":{\"line\":{\"color\":\"#283442\"}},\"type\":\"scatter\"}],\"parcoords\":[{\"type\":\"parcoords\",\"line\":{\"colorbar\":{\"outlinewidth\":0,\"ticks\":\"\"}}}],\"scatterpolargl\":[{\"type\":\"scatterpolargl\",\"marker\":{\"colorbar\":{\"outlinewidth\":0,\"ticks\":\"\"}}}],\"bar\":[{\"error_x\":{\"color\":\"#f2f5fa\"},\"error_y\":{\"color\":\"#f2f5fa\"},\"marker\":{\"line\":{\"color\":\"rgb(17,17,17)\",\"width\":0.5},\"pattern\":{\"fillmode\":\"overlay\",\"size\":10,\"solidity\":0.2}},\"type\":\"bar\"}],\"scattergeo\":[{\"type\":\"scattergeo\",\"marker\":{\"colorbar\":{\"outlinewidth\":0,\"ticks\":\"\"}}}],\"scatterpolar\":[{\"type\":\"scatterpolar\",\"marker\":{\"colorbar\":{\"outlinewidth\":0,\"ticks\":\"\"}}}],\"histogram\":[{\"marker\":{\"pattern\":{\"fillmode\":\"overlay\",\"size\":10,\"solidity\":0.2}},\"type\":\"histogram\"}],\"scattergl\":[{\"marker\":{\"line\":{\"color\":\"#283442\"}},\"type\":\"scattergl\"}],\"scatter3d\":[{\"type\":\"scatter3d\",\"line\":{\"colorbar\":{\"outlinewidth\":0,\"ticks\":\"\"}},\"marker\":{\"colorbar\":{\"outlinewidth\":0,\"ticks\":\"\"}}}],\"scattermapbox\":[{\"type\":\"scattermapbox\",\"marker\":{\"colorbar\":{\"outlinewidth\":0,\"ticks\":\"\"}}}],\"scatterternary\":[{\"type\":\"scatterternary\",\"marker\":{\"colorbar\":{\"outlinewidth\":0,\"ticks\":\"\"}}}],\"scattercarpet\":[{\"type\":\"scattercarpet\",\"marker\":{\"colorbar\":{\"outlinewidth\":0,\"ticks\":\"\"}}}],\"carpet\":[{\"aaxis\":{\"endlinecolor\":\"#A2B1C6\",\"gridcolor\":\"#506784\",\"linecolor\":\"#506784\",\"minorgridcolor\":\"#506784\",\"startlinecolor\":\"#A2B1C6\"},\"baxis\":{\"endlinecolor\":\"#A2B1C6\",\"gridcolor\":\"#506784\",\"linecolor\":\"#506784\",\"minorgridcolor\":\"#506784\",\"startlinecolor\":\"#A2B1C6\"},\"type\":\"carpet\"}],\"table\":[{\"cells\":{\"fill\":{\"color\":\"#506784\"},\"line\":{\"color\":\"rgb(17,17,17)\"}},\"header\":{\"fill\":{\"color\":\"#2a3f5f\"},\"line\":{\"color\":\"rgb(17,17,17)\"}},\"type\":\"table\"}],\"barpolar\":[{\"marker\":{\"line\":{\"color\":\"rgb(17,17,17)\",\"width\":0.5},\"pattern\":{\"fillmode\":\"overlay\",\"size\":10,\"solidity\":0.2}},\"type\":\"barpolar\"}],\"pie\":[{\"automargin\":true,\"type\":\"pie\"}]},\"layout\":{\"autotypenumbers\":\"strict\",\"colorway\":[\"#636efa\",\"#EF553B\",\"#00cc96\",\"#ab63fa\",\"#FFA15A\",\"#19d3f3\",\"#FF6692\",\"#B6E880\",\"#FF97FF\",\"#FECB52\"],\"font\":{\"color\":\"#f2f5fa\"},\"hovermode\":\"closest\",\"hoverlabel\":{\"align\":\"left\"},\"paper_bgcolor\":\"rgb(17,17,17)\",\"plot_bgcolor\":\"rgb(17,17,17)\",\"polar\":{\"bgcolor\":\"rgb(17,17,17)\",\"angularaxis\":{\"gridcolor\":\"#506784\",\"linecolor\":\"#506784\",\"ticks\":\"\"},\"radialaxis\":{\"gridcolor\":\"#506784\",\"linecolor\":\"#506784\",\"ticks\":\"\"}},\"ternary\":{\"bgcolor\":\"rgb(17,17,17)\",\"aaxis\":{\"gridcolor\":\"#506784\",\"linecolor\":\"#506784\",\"ticks\":\"\"},\"baxis\":{\"gridcolor\":\"#506784\",\"linecolor\":\"#506784\",\"ticks\":\"\"},\"caxis\":{\"gridcolor\":\"#506784\",\"linecolor\":\"#506784\",\"ticks\":\"\"}},\"coloraxis\":{\"colorbar\":{\"outlinewidth\":0,\"ticks\":\"\"}},\"colorscale\":{\"sequential\":[[0.0,\"#0d0887\"],[0.1111111111111111,\"#46039f\"],[0.2222222222222222,\"#7201a8\"],[0.3333333333333333,\"#9c179e\"],[0.4444444444444444,\"#bd3786\"],[0.5555555555555556,\"#d8576b\"],[0.6666666666666666,\"#ed7953\"],[0.7777777777777778,\"#fb9f3a\"],[0.8888888888888888,\"#fdca26\"],[1.0,\"#f0f921\"]],\"sequentialminus\":[[0.0,\"#0d0887\"],[0.1111111111111111,\"#46039f\"],[0.2222222222222222,\"#7201a8\"],[0.3333333333333333,\"#9c179e\"],[0.4444444444444444,\"#bd3786\"],[0.5555555555555556,\"#d8576b\"],[0.6666666666666666,\"#ed7953\"],[0.7777777777777778,\"#fb9f3a\"],[0.8888888888888888,\"#fdca26\"],[1.0,\"#f0f921\"]],\"diverging\":[[0,\"#8e0152\"],[0.1,\"#c51b7d\"],[0.2,\"#de77ae\"],[0.3,\"#f1b6da\"],[0.4,\"#fde0ef\"],[0.5,\"#f7f7f7\"],[0.6,\"#e6f5d0\"],[0.7,\"#b8e186\"],[0.8,\"#7fbc41\"],[0.9,\"#4d9221\"],[1,\"#276419\"]]},\"xaxis\":{\"gridcolor\":\"#283442\",\"linecolor\":\"#506784\",\"ticks\":\"\",\"title\":{\"standoff\":15},\"zerolinecolor\":\"#283442\",\"automargin\":true,\"zerolinewidth\":2},\"yaxis\":{\"gridcolor\":\"#283442\",\"linecolor\":\"#506784\",\"ticks\":\"\",\"title\":{\"standoff\":15},\"zerolinecolor\":\"#283442\",\"automargin\":true,\"zerolinewidth\":2},\"scene\":{\"xaxis\":{\"backgroundcolor\":\"rgb(17,17,17)\",\"gridcolor\":\"#506784\",\"linecolor\":\"#506784\",\"showbackground\":true,\"ticks\":\"\",\"zerolinecolor\":\"#C8D4E3\",\"gridwidth\":2},\"yaxis\":{\"backgroundcolor\":\"rgb(17,17,17)\",\"gridcolor\":\"#506784\",\"linecolor\":\"#506784\",\"showbackground\":true,\"ticks\":\"\",\"zerolinecolor\":\"#C8D4E3\",\"gridwidth\":2},\"zaxis\":{\"backgroundcolor\":\"rgb(17,17,17)\",\"gridcolor\":\"#506784\",\"linecolor\":\"#506784\",\"showbackground\":true,\"ticks\":\"\",\"zerolinecolor\":\"#C8D4E3\",\"gridwidth\":2}},\"shapedefaults\":{\"line\":{\"color\":\"#f2f5fa\"}},\"annotationdefaults\":{\"arrowcolor\":\"#f2f5fa\",\"arrowhead\":0,\"arrowwidth\":1},\"geo\":{\"bgcolor\":\"rgb(17,17,17)\",\"landcolor\":\"rgb(17,17,17)\",\"subunitcolor\":\"#506784\",\"showland\":true,\"showlakes\":true,\"lakecolor\":\"rgb(17,17,17)\"},\"title\":{\"x\":0.05},\"updatemenudefaults\":{\"bgcolor\":\"#506784\",\"borderwidth\":0},\"sliderdefaults\":{\"bgcolor\":\"#C8D4E3\",\"borderwidth\":1,\"bordercolor\":\"rgb(17,17,17)\",\"tickwidth\":0},\"mapbox\":{\"style\":\"dark\"}}},\"xaxis\":{\"anchor\":\"y\",\"domain\":[0.0,0.94]},\"yaxis\":{\"anchor\":\"x\",\"domain\":[0.0,1.0]},\"yaxis2\":{\"anchor\":\"x\",\"overlaying\":\"y\",\"side\":\"right\"},\"annotations\":[{\"font\":{\"size\":16},\"showarrow\":false,\"text\":\"fish\",\"x\":0.47,\"xanchor\":\"center\",\"xref\":\"paper\",\"y\":1.0,\"yanchor\":\"bottom\",\"yref\":\"paper\"}],\"legend\":{\"orientation\":\"h\",\"x\":0.5,\"y\":-0.1,\"xanchor\":\"center\"},\"title\":{\"text\":\"fish (First 100 Rows)\"},\"height\":400,\"width\":1000},                        {\"responsive\": true}                    ).then(function(){\n",
       "                            \n",
       "var gd = document.getElementById('895bf0a6-1d09-44eb-a477-01e73d0d4c21');\n",
       "var x = new MutationObserver(function (mutations, observer) {{\n",
       "        var display = window.getComputedStyle(gd).display;\n",
       "        if (!display || display === 'none') {{\n",
       "            console.log([gd, 'removed!']);\n",
       "            Plotly.purge(gd);\n",
       "            observer.disconnect();\n",
       "        }}\n",
       "}});\n",
       "\n",
       "// Listen for the removal of the full notebook cells\n",
       "var notebookContainer = gd.closest('#notebook-container');\n",
       "if (notebookContainer) {{\n",
       "    x.observe(notebookContainer, {childList: true});\n",
       "}}\n",
       "\n",
       "// Listen for the clearing of the current output cell\n",
       "var outputEl = gd.closest('.output');\n",
       "if (outputEl) {{\n",
       "    x.observe(outputEl, {childList: true});\n",
       "}}\n",
       "\n",
       "                        })                };                });            </script>        </div>"
      ]
     },
     "metadata": {},
     "output_type": "display_data"
    },
    {
     "data": {
      "application/vnd.plotly.v1+json": {
       "config": {
        "plotlyServerURL": "https://plot.ly"
       },
       "data": [
        {
         "line": {
          "color": "blue",
          "dash": "dash"
         },
         "mode": "lines",
         "name": "Train Loss",
         "type": "scatter",
         "x": [
          1,
          2,
          3,
          4,
          5,
          6,
          7,
          8,
          9,
          10,
          11,
          12,
          13,
          14,
          15,
          16,
          17,
          18,
          19,
          20
         ],
         "xaxis": "x",
         "y": [
          0.638,
          0.637,
          0.634,
          0.634,
          0.643,
          0.629,
          0.629,
          0.637,
          0.624,
          0.651,
          0.635,
          0.627,
          0.639,
          0.627,
          0.637,
          0.635,
          0.639,
          0.647,
          0.625,
          0.628
         ],
         "yaxis": "y"
        },
        {
         "line": {
          "color": "red",
          "dash": "dash"
         },
         "mode": "lines",
         "name": "Val Loss",
         "type": "scatter",
         "x": [
          1,
          2,
          3,
          4,
          5,
          6,
          7,
          8,
          9,
          10,
          11,
          12,
          13,
          14,
          15,
          16,
          17,
          18,
          19,
          20
         ],
         "xaxis": "x",
         "y": [
          0.753,
          0.732,
          0.748,
          0.738,
          0.739,
          0.744,
          0.737,
          0.737,
          0.741,
          0.738,
          0.734,
          0.757,
          0.751,
          0.743,
          0.747,
          0.742,
          0.743,
          0.742,
          0.754,
          0.738
         ],
         "yaxis": "y"
        },
        {
         "line": {
          "color": "purple"
         },
         "mode": "lines",
         "name": "Train Accuracy",
         "type": "scatter",
         "x": [
          1,
          2,
          3,
          4,
          5,
          6,
          7,
          8,
          9,
          10,
          11,
          12,
          13,
          14,
          15,
          16,
          17,
          18,
          19,
          20
         ],
         "xaxis": "x",
         "y": [
          75.6,
          75.92,
          76.44,
          75.68,
          74.88,
          76.36,
          76.2,
          75.2,
          75.48,
          75.6,
          75.8,
          76.2,
          75.64,
          76.08,
          75.32,
          75.72,
          75.72,
          75.08,
          75.52,
          76.52
         ],
         "yaxis": "y2"
        },
        {
         "line": {
          "color": "green"
         },
         "mode": "lines",
         "name": "Val Accuracy",
         "type": "scatter",
         "x": [
          1,
          2,
          3,
          4,
          5,
          6,
          7,
          8,
          9,
          10,
          11,
          12,
          13,
          14,
          15,
          16,
          17,
          18,
          19,
          20
         ],
         "xaxis": "x",
         "y": [
          72.4,
          73.2,
          71.8,
          72.2,
          71.8,
          73.2,
          72,
          71.8,
          72.4,
          71.8,
          73.2,
          72.4,
          71.6,
          72.8,
          70.4,
          71.4,
          71.2,
          72,
          70.8,
          72.4
         ],
         "yaxis": "y2"
        },
        {
         "line": {
          "color": "blue",
          "dash": "dash"
         },
         "mode": "lines",
         "name": "Train Loss",
         "type": "scatter",
         "x": [
          1,
          2,
          3,
          4,
          5,
          6,
          7,
          8,
          9,
          10,
          11,
          12,
          13,
          14,
          15,
          16,
          17,
          18,
          19,
          20
         ],
         "xaxis": "x2",
         "y": [
          0.611,
          0.613,
          0.608,
          0.61,
          0.614,
          0.6,
          0.599,
          0.607,
          0.597,
          0.625,
          0.608,
          0.601,
          0.611,
          0.603,
          0.609,
          0.609,
          0.612,
          0.619,
          0.598,
          0.601
         ],
         "yaxis": "y3"
        },
        {
         "line": {
          "color": "red",
          "dash": "dash"
         },
         "mode": "lines",
         "name": "Val Loss",
         "type": "scatter",
         "x": [
          1,
          2,
          3,
          4,
          5,
          6,
          7,
          8,
          9,
          10,
          11,
          12,
          13,
          14,
          15,
          16,
          17,
          18,
          19,
          20
         ],
         "xaxis": "x2",
         "y": [
          0.753,
          0.738,
          0.754,
          0.736,
          0.736,
          0.742,
          0.732,
          0.734,
          0.741,
          0.735,
          0.73,
          0.755,
          0.752,
          0.743,
          0.745,
          0.741,
          0.744,
          0.741,
          0.752,
          0.736
         ],
         "yaxis": "y3"
        },
        {
         "line": {
          "color": "purple"
         },
         "mode": "lines",
         "name": "Train Accuracy",
         "type": "scatter",
         "x": [
          1,
          2,
          3,
          4,
          5,
          6,
          7,
          8,
          9,
          10,
          11,
          12,
          13,
          14,
          15,
          16,
          17,
          18,
          19,
          20
         ],
         "xaxis": "x2",
         "y": [
          76.96,
          76.76,
          77.36,
          76.48,
          76.28,
          78.04,
          77.12,
          76.32,
          76.76,
          76.16,
          76.12,
          76.92,
          77.08,
          76.72,
          76.84,
          76.32,
          76.6,
          76.2,
          77.32,
          77.8
         ],
         "yaxis": "y4"
        },
        {
         "line": {
          "color": "green"
         },
         "mode": "lines",
         "name": "Val Accuracy",
         "type": "scatter",
         "x": [
          1,
          2,
          3,
          4,
          5,
          6,
          7,
          8,
          9,
          10,
          11,
          12,
          13,
          14,
          15,
          16,
          17,
          18,
          19,
          20
         ],
         "xaxis": "x2",
         "y": [
          72.8,
          73,
          72.2,
          71.8,
          71.4,
          73.2,
          71.2,
          71.4,
          72.4,
          71.2,
          72.6,
          72.8,
          71.4,
          72.6,
          70.6,
          71.4,
          71.8,
          72,
          71,
          71.8
         ],
         "yaxis": "y4"
        },
        {
         "line": {
          "color": "blue",
          "dash": "dash"
         },
         "mode": "lines",
         "name": "Train Loss",
         "type": "scatter",
         "x": [
          1,
          2,
          3,
          4,
          5,
          6,
          7,
          8,
          9,
          10,
          11,
          12,
          13,
          14,
          15,
          16,
          17,
          18,
          19,
          20
         ],
         "xaxis": "x3",
         "y": [
          0.583,
          0.592,
          0.586,
          0.587,
          0.591,
          0.575,
          0.574,
          0.58,
          0.572,
          0.601,
          0.582,
          0.578,
          0.586,
          0.579,
          0.582,
          0.585,
          0.588,
          0.591,
          0.573,
          0.576
         ],
         "yaxis": "y5"
        },
        {
         "line": {
          "color": "red",
          "dash": "dash"
         },
         "mode": "lines",
         "name": "Val Loss",
         "type": "scatter",
         "x": [
          1,
          2,
          3,
          4,
          5,
          6,
          7,
          8,
          9,
          10,
          11,
          12,
          13,
          14,
          15,
          16,
          17,
          18,
          19,
          20
         ],
         "xaxis": "x3",
         "y": [
          0.741,
          0.736,
          0.75,
          0.732,
          0.735,
          0.737,
          0.728,
          0.731,
          0.741,
          0.73,
          0.727,
          0.756,
          0.754,
          0.741,
          0.747,
          0.739,
          0.743,
          0.739,
          0.752,
          0.739
         ],
         "yaxis": "y5"
        },
        {
         "line": {
          "color": "purple"
         },
         "mode": "lines",
         "name": "Train Accuracy",
         "type": "scatter",
         "x": [
          1,
          2,
          3,
          4,
          5,
          6,
          7,
          8,
          9,
          10,
          11,
          12,
          13,
          14,
          15,
          16,
          17,
          18,
          19,
          20
         ],
         "xaxis": "x3",
         "y": [
          78.12,
          77.48,
          77.88,
          77.76,
          77.52,
          79.12,
          77.88,
          77.16,
          78,
          77.36,
          77.68,
          78,
          78.2,
          77.6,
          78.04,
          77.88,
          77.4,
          77.88,
          78.44,
          79.12
         ],
         "yaxis": "y6"
        },
        {
         "line": {
          "color": "green"
         },
         "mode": "lines",
         "name": "Val Accuracy",
         "type": "scatter",
         "x": [
          1,
          2,
          3,
          4,
          5,
          6,
          7,
          8,
          9,
          10,
          11,
          12,
          13,
          14,
          15,
          16,
          17,
          18,
          19,
          20
         ],
         "xaxis": "x3",
         "y": [
          72.8,
          73,
          72,
          72.4,
          71.4,
          73.2,
          71,
          71.4,
          72.4,
          72.2,
          72.4,
          72.8,
          72,
          72.2,
          70.8,
          72,
          71.2,
          72,
          70.8,
          72.8
         ],
         "yaxis": "y6"
        },
        {
         "line": {
          "color": "blue",
          "dash": "dash"
         },
         "mode": "lines",
         "name": "Train Loss",
         "type": "scatter",
         "x": [
          1,
          2,
          3,
          4,
          5,
          6,
          7,
          8,
          9,
          10,
          11,
          12,
          13,
          14,
          15,
          16,
          17,
          18,
          19,
          20
         ],
         "xaxis": "x4",
         "y": [
          0.555,
          0.574,
          0.568,
          0.566,
          0.57,
          0.551,
          0.551,
          0.556,
          0.548,
          0.577,
          0.559,
          0.555,
          0.559,
          0.555,
          0.556,
          0.561,
          0.566,
          0.566,
          0.548,
          0.551
         ],
         "yaxis": "y7"
        },
        {
         "line": {
          "color": "red",
          "dash": "dash"
         },
         "mode": "lines",
         "name": "Val Loss",
         "type": "scatter",
         "x": [
          1,
          2,
          3,
          4,
          5,
          6,
          7,
          8,
          9,
          10,
          11,
          12,
          13,
          14,
          15,
          16,
          17,
          18,
          19,
          20
         ],
         "xaxis": "x4",
         "y": [
          0.77,
          0.739,
          0.738,
          0.732,
          0.727,
          0.731,
          0.722,
          0.725,
          0.737,
          0.722,
          0.721,
          0.75,
          0.75,
          0.736,
          0.743,
          0.732,
          0.744,
          0.735,
          0.751,
          0.737
         ],
         "yaxis": "y7"
        },
        {
         "line": {
          "color": "purple"
         },
         "mode": "lines",
         "name": "Train Accuracy",
         "type": "scatter",
         "x": [
          1,
          2,
          3,
          4,
          5,
          6,
          7,
          8,
          9,
          10,
          11,
          12,
          13,
          14,
          15,
          16,
          17,
          18,
          19,
          20
         ],
         "xaxis": "x4",
         "y": [
          79.68,
          78.4,
          78.24,
          78.84,
          78.84,
          80.52,
          79,
          78.24,
          79,
          78.2,
          78.92,
          79.16,
          79.28,
          79.28,
          79.24,
          79.28,
          78.2,
          78.64,
          79.44,
          80.04
         ],
         "yaxis": "y8"
        },
        {
         "line": {
          "color": "green"
         },
         "mode": "lines",
         "name": "Val Accuracy",
         "type": "scatter",
         "x": [
          1,
          2,
          3,
          4,
          5,
          6,
          7,
          8,
          9,
          10,
          11,
          12,
          13,
          14,
          15,
          16,
          17,
          18,
          19,
          20
         ],
         "xaxis": "x4",
         "y": [
          72.6,
          72.2,
          72.6,
          72,
          71.6,
          73.6,
          72.4,
          72,
          72,
          71.8,
          73.2,
          73,
          72.2,
          71.8,
          71.6,
          72.2,
          71.8,
          72.8,
          71,
          72.4
         ],
         "yaxis": "y8"
        },
        {
         "line": {
          "color": "blue",
          "dash": "dash"
         },
         "mode": "lines",
         "name": "Train Loss",
         "type": "scatter",
         "x": [
          1,
          2,
          3,
          4,
          5,
          6,
          7,
          8,
          9,
          10,
          11,
          12,
          13,
          14,
          15,
          16,
          17,
          18,
          19,
          20
         ],
         "xaxis": "x5",
         "y": [
          0.528,
          0.554,
          0.554,
          0.552,
          0.549,
          0.529,
          0.53,
          0.532,
          0.525,
          0.554,
          0.535,
          0.531,
          0.535,
          0.532,
          0.532,
          0.54,
          0.545,
          0.543,
          0.529,
          0.528
         ],
         "yaxis": "y9"
        },
        {
         "line": {
          "color": "red",
          "dash": "dash"
         },
         "mode": "lines",
         "name": "Val Loss",
         "type": "scatter",
         "x": [
          1,
          2,
          3,
          4,
          5,
          6,
          7,
          8,
          9,
          10,
          11,
          12,
          13,
          14,
          15,
          16,
          17,
          18,
          19,
          20
         ],
         "xaxis": "x5",
         "y": [
          0.809,
          0.746,
          0.774,
          0.744,
          0.741,
          0.746,
          0.736,
          0.743,
          0.75,
          0.734,
          0.729,
          0.76,
          0.761,
          0.744,
          0.756,
          0.745,
          0.756,
          0.748,
          0.762,
          0.748
         ],
         "yaxis": "y9"
        },
        {
         "line": {
          "color": "purple"
         },
         "mode": "lines",
         "name": "Train Accuracy",
         "type": "scatter",
         "x": [
          1,
          2,
          3,
          4,
          5,
          6,
          7,
          8,
          9,
          10,
          11,
          12,
          13,
          14,
          15,
          16,
          17,
          18,
          19,
          20
         ],
         "xaxis": "x5",
         "y": [
          80.52,
          79.08,
          79,
          79.36,
          79,
          81.16,
          79.56,
          79.72,
          79.76,
          79.32,
          79.92,
          80.12,
          79.84,
          80.48,
          80.08,
          80.28,
          79.08,
          80.04,
          79.96,
          80.76
         ],
         "yaxis": "y10"
        },
        {
         "line": {
          "color": "green"
         },
         "mode": "lines",
         "name": "Val Accuracy",
         "type": "scatter",
         "x": [
          1,
          2,
          3,
          4,
          5,
          6,
          7,
          8,
          9,
          10,
          11,
          12,
          13,
          14,
          15,
          16,
          17,
          18,
          19,
          20
         ],
         "xaxis": "x5",
         "y": [
          70.8,
          72.8,
          70.8,
          72,
          71.6,
          72.8,
          71.6,
          71.6,
          71,
          71.4,
          72,
          71.2,
          72.4,
          71.8,
          70.8,
          70.8,
          71.4,
          71,
          70.4,
          72.2
         ],
         "yaxis": "y10"
        },
        {
         "line": {
          "color": "blue",
          "dash": "dash"
         },
         "mode": "lines",
         "name": "Train Loss",
         "type": "scatter",
         "x": [
          1,
          2,
          3,
          4,
          5,
          6,
          7,
          8,
          9,
          10,
          11,
          12,
          13,
          14,
          15,
          16,
          17,
          18,
          19,
          20
         ],
         "xaxis": "x6",
         "y": [
          0.503,
          0.553,
          0.543,
          0.548,
          0.544,
          0.517,
          0.517,
          0.522,
          0.514,
          0.545,
          0.518,
          0.521,
          0.518,
          0.517,
          0.514,
          0.524,
          0.53,
          0.524,
          0.51,
          0.513
         ],
         "yaxis": "y11"
        },
        {
         "line": {
          "color": "red",
          "dash": "dash"
         },
         "mode": "lines",
         "name": "Val Loss",
         "type": "scatter",
         "x": [
          1,
          2,
          3,
          4,
          5,
          6,
          7,
          8,
          9,
          10,
          11,
          12,
          13,
          14,
          15,
          16,
          17,
          18,
          19,
          20
         ],
         "xaxis": "x6",
         "y": [
          0.829,
          0.819,
          0.808,
          0.733,
          0.738,
          0.746,
          0.741,
          0.744,
          0.751,
          0.734,
          0.734,
          0.772,
          0.767,
          0.745,
          0.76,
          0.753,
          0.766,
          0.758,
          0.766,
          0.754
         ],
         "yaxis": "y11"
        },
        {
         "line": {
          "color": "purple"
         },
         "mode": "lines",
         "name": "Train Accuracy",
         "type": "scatter",
         "x": [
          1,
          2,
          3,
          4,
          5,
          6,
          7,
          8,
          9,
          10,
          11,
          12,
          13,
          14,
          15,
          16,
          17,
          18,
          19,
          20
         ],
         "xaxis": "x6",
         "y": [
          81.56,
          79.32,
          79.6,
          79.36,
          79.48,
          81.52,
          80.2,
          79.84,
          79.96,
          79.68,
          80.4,
          80.52,
          80.56,
          81.08,
          81.32,
          80.76,
          79.88,
          80.76,
          80.84,
          80.96
         ],
         "yaxis": "y12"
        },
        {
         "line": {
          "color": "green"
         },
         "mode": "lines",
         "name": "Val Accuracy",
         "type": "scatter",
         "x": [
          1,
          2,
          3,
          4,
          5,
          6,
          7,
          8,
          9,
          10,
          11,
          12,
          13,
          14,
          15,
          16,
          17,
          18,
          19,
          20
         ],
         "xaxis": "x6",
         "y": [
          70.4,
          70.6,
          70.8,
          73.4,
          73.2,
          73.6,
          72.4,
          72.4,
          73.6,
          72,
          72.4,
          72.6,
          71.8,
          72.2,
          72.2,
          72.6,
          73.6,
          72,
          71.2,
          73.8
         ],
         "yaxis": "y12"
        },
        {
         "line": {
          "color": "blue",
          "dash": "dash"
         },
         "mode": "lines",
         "name": "Train Loss",
         "type": "scatter",
         "x": [
          1,
          2,
          3,
          4,
          5,
          6,
          7,
          8,
          9,
          10,
          11,
          12,
          13,
          14,
          15,
          16,
          17,
          18,
          19,
          20
         ],
         "xaxis": "x7",
         "y": [
          0.489,
          0.559,
          0.571,
          0.556,
          0.543,
          0.512,
          0.517,
          0.514,
          0.509,
          0.542,
          0.512,
          0.516,
          0.514,
          0.506,
          0.507,
          0.518,
          0.518,
          0.518,
          0.501,
          0.506
         ],
         "yaxis": "y13"
        },
        {
         "line": {
          "color": "red",
          "dash": "dash"
         },
         "mode": "lines",
         "name": "Val Loss",
         "type": "scatter",
         "x": [
          1,
          2,
          3,
          4,
          5,
          6,
          7,
          8,
          9,
          10,
          11,
          12,
          13,
          14,
          15,
          16,
          17,
          18,
          19,
          20
         ],
         "xaxis": "x7",
         "y": [
          0.954,
          0.825,
          0.771,
          0.757,
          0.757,
          0.748,
          0.746,
          0.747,
          0.757,
          0.742,
          0.74,
          0.774,
          0.766,
          0.75,
          0.757,
          0.76,
          0.771,
          0.761,
          0.773,
          0.754
         ],
         "yaxis": "y13"
        },
        {
         "line": {
          "color": "purple"
         },
         "mode": "lines",
         "name": "Train Accuracy",
         "type": "scatter",
         "x": [
          1,
          2,
          3,
          4,
          5,
          6,
          7,
          8,
          9,
          10,
          11,
          12,
          13,
          14,
          15,
          16,
          17,
          18,
          19,
          20
         ],
         "xaxis": "x7",
         "y": [
          82.2,
          78.6,
          78.56,
          79.24,
          79.6,
          81.76,
          80.16,
          80.52,
          80.56,
          80.12,
          80.44,
          80.2,
          80.56,
          80.72,
          81.6,
          80.76,
          80.32,
          80.68,
          81.28,
          81.44
         ],
         "yaxis": "y14"
        },
        {
         "line": {
          "color": "green"
         },
         "mode": "lines",
         "name": "Val Accuracy",
         "type": "scatter",
         "x": [
          1,
          2,
          3,
          4,
          5,
          6,
          7,
          8,
          9,
          10,
          11,
          12,
          13,
          14,
          15,
          16,
          17,
          18,
          19,
          20
         ],
         "xaxis": "x7",
         "y": [
          66.2,
          68,
          68.8,
          70.2,
          70,
          72.6,
          71,
          71.8,
          71.2,
          71,
          72,
          71.8,
          71.6,
          72.2,
          71.6,
          71.6,
          72.4,
          71.6,
          71,
          70.8
         ],
         "yaxis": "y14"
        },
        {
         "line": {
          "color": "blue",
          "dash": "dash"
         },
         "mode": "lines",
         "name": "Train Loss",
         "type": "scatter",
         "x": [
          1,
          2,
          3,
          4,
          5,
          6,
          7,
          8,
          9,
          10,
          11,
          12,
          13,
          14,
          15,
          16,
          17,
          18,
          19,
          20
         ],
         "xaxis": "x8",
         "y": [
          0.481,
          0.68,
          0.636,
          0.666,
          0.613,
          0.586,
          0.593,
          0.586,
          0.572,
          0.591,
          0.565,
          0.576,
          0.565,
          0.571,
          0.554,
          0.561,
          0.556,
          0.568,
          0.548,
          0.552
         ],
         "yaxis": "y15"
        },
        {
         "line": {
          "color": "red",
          "dash": "dash"
         },
         "mode": "lines",
         "name": "Val Loss",
         "type": "scatter",
         "x": [
          1,
          2,
          3,
          4,
          5,
          6,
          7,
          8,
          9,
          10,
          11,
          12,
          13,
          14,
          15,
          16,
          17,
          18,
          19,
          20
         ],
         "xaxis": "x8",
         "y": [
          1.038,
          1.048,
          0.991,
          0.804,
          0.804,
          0.796,
          0.805,
          0.792,
          0.794,
          0.803,
          0.793,
          0.814,
          0.818,
          0.78,
          0.801,
          0.793,
          0.797,
          0.786,
          0.799,
          0.785
         ],
         "yaxis": "y15"
        },
        {
         "line": {
          "color": "purple"
         },
         "mode": "lines",
         "name": "Train Accuracy",
         "type": "scatter",
         "x": [
          1,
          2,
          3,
          4,
          5,
          6,
          7,
          8,
          9,
          10,
          11,
          12,
          13,
          14,
          15,
          16,
          17,
          18,
          19,
          20
         ],
         "xaxis": "x8",
         "y": [
          82.36,
          73.32,
          75.48,
          74.36,
          75.88,
          77.68,
          77.4,
          78.48,
          78.52,
          77.64,
          78.68,
          77.76,
          79.2,
          78.88,
          79.56,
          79.04,
          78.72,
          79.4,
          79.36,
          79.4
         ],
         "yaxis": "y16"
        },
        {
         "line": {
          "color": "green"
         },
         "mode": "lines",
         "name": "Val Accuracy",
         "type": "scatter",
         "x": [
          1,
          2,
          3,
          4,
          5,
          6,
          7,
          8,
          9,
          10,
          11,
          12,
          13,
          14,
          15,
          16,
          17,
          18,
          19,
          20
         ],
         "xaxis": "x8",
         "y": [
          64.4,
          62.4,
          61.2,
          69,
          68.8,
          69.6,
          68.4,
          68.8,
          69.6,
          69.4,
          70.2,
          70.6,
          69,
          70,
          70,
          70.8,
          70.4,
          70.8,
          69.6,
          69.6
         ],
         "yaxis": "y16"
        },
        {
         "line": {
          "color": "blue",
          "dash": "dash"
         },
         "mode": "lines",
         "name": "Train Loss",
         "type": "scatter",
         "x": [
          1,
          2,
          3,
          4,
          5,
          6,
          7,
          8,
          9,
          10,
          11,
          12,
          13,
          14,
          15,
          16,
          17,
          18,
          19,
          20
         ],
         "xaxis": "x9",
         "y": [
          0.532,
          0.87,
          0.908,
          0.878,
          0.796,
          0.749,
          0.734,
          0.722,
          0.732,
          0.74,
          0.72,
          0.711,
          0.709,
          0.705,
          0.696,
          0.711,
          0.679,
          0.709,
          0.683,
          0.675
         ],
         "yaxis": "y17"
        },
        {
         "line": {
          "color": "red",
          "dash": "dash"
         },
         "mode": "lines",
         "name": "Val Loss",
         "type": "scatter",
         "x": [
          1,
          2,
          3,
          4,
          5,
          6,
          7,
          8,
          9,
          10,
          11,
          12,
          13,
          14,
          15,
          16,
          17,
          18,
          19,
          20
         ],
         "xaxis": "x9",
         "y": [
          1.296,
          1.411,
          1.279,
          0.898,
          0.84,
          0.83,
          0.824,
          0.825,
          0.816,
          0.806,
          0.809,
          0.828,
          0.818,
          0.809,
          0.817,
          0.817,
          0.819,
          0.819,
          0.824,
          0.813
         ],
         "yaxis": "y17"
        },
        {
         "line": {
          "color": "purple"
         },
         "mode": "lines",
         "name": "Train Accuracy",
         "type": "scatter",
         "x": [
          1,
          2,
          3,
          4,
          5,
          6,
          7,
          8,
          9,
          10,
          11,
          12,
          13,
          14,
          15,
          16,
          17,
          18,
          19,
          20
         ],
         "xaxis": "x9",
         "y": [
          79.36,
          66.96,
          64.96,
          66.24,
          69.44,
          71.8,
          71.2,
          71.68,
          71.68,
          72.76,
          72.72,
          72.4,
          72.16,
          72.88,
          73.52,
          72.64,
          73.92,
          72.52,
          74.04,
          74.24
         ],
         "yaxis": "y18"
        },
        {
         "line": {
          "color": "green"
         },
         "mode": "lines",
         "name": "Val Accuracy",
         "type": "scatter",
         "x": [
          1,
          2,
          3,
          4,
          5,
          6,
          7,
          8,
          9,
          10,
          11,
          12,
          13,
          14,
          15,
          16,
          17,
          18,
          19,
          20
         ],
         "xaxis": "x9",
         "y": [
          57.8,
          50.4,
          55.4,
          66.2,
          68.2,
          68.8,
          67.4,
          67.4,
          68.8,
          69.2,
          69,
          68.2,
          69.4,
          69.2,
          68.4,
          69.2,
          69.2,
          69,
          69,
          68.8
         ],
         "yaxis": "y18"
        },
        {
         "line": {
          "color": "blue",
          "dash": "dash"
         },
         "mode": "lines",
         "name": "Train Loss",
         "type": "scatter",
         "x": [
          1,
          2,
          3,
          4,
          5,
          6,
          7,
          8,
          9,
          10,
          11,
          12,
          13,
          14,
          15,
          16,
          17,
          18,
          19,
          20
         ],
         "xaxis": "x10",
         "y": [
          0.676,
          0.813,
          0.88,
          0.936,
          0.858,
          0.842,
          0.837,
          0.822,
          0.812,
          0.827,
          0.797,
          0.813,
          0.807,
          0.8,
          0.791,
          0.803,
          0.784,
          0.803,
          0.772,
          0.788
         ],
         "yaxis": "y19"
        },
        {
         "line": {
          "color": "red",
          "dash": "dash"
         },
         "mode": "lines",
         "name": "Val Loss",
         "type": "scatter",
         "x": [
          1,
          2,
          3,
          4,
          5,
          6,
          7,
          8,
          9,
          10,
          11,
          12,
          13,
          14,
          15,
          16,
          17,
          18,
          19,
          20
         ],
         "xaxis": "x10",
         "y": [
          1.361,
          1.169,
          1.091,
          0.954,
          0.887,
          0.869,
          0.858,
          0.857,
          0.846,
          0.843,
          0.841,
          0.841,
          0.845,
          0.834,
          0.831,
          0.831,
          0.824,
          0.818,
          0.826,
          0.822
         ],
         "yaxis": "y19"
        },
        {
         "line": {
          "color": "purple"
         },
         "mode": "lines",
         "name": "Train Accuracy",
         "type": "scatter",
         "x": [
          1,
          2,
          3,
          4,
          5,
          6,
          7,
          8,
          9,
          10,
          11,
          12,
          13,
          14,
          15,
          16,
          17,
          18,
          19,
          20
         ],
         "xaxis": "x10",
         "y": [
          73.44,
          69.16,
          64.72,
          62.8,
          66.84,
          67.64,
          66.92,
          67.68,
          68.36,
          68.56,
          68.88,
          67.64,
          68.8,
          69.68,
          69.8,
          69.32,
          69.8,
          68.8,
          70.12,
          69.4
         ],
         "yaxis": "y20"
        },
        {
         "line": {
          "color": "green"
         },
         "mode": "lines",
         "name": "Val Accuracy",
         "type": "scatter",
         "x": [
          1,
          2,
          3,
          4,
          5,
          6,
          7,
          8,
          9,
          10,
          11,
          12,
          13,
          14,
          15,
          16,
          17,
          18,
          19,
          20
         ],
         "xaxis": "x10",
         "y": [
          48.2,
          53.8,
          54.8,
          60.8,
          64,
          65.4,
          65,
          65.4,
          66.4,
          66,
          66.6,
          66,
          66,
          68,
          67,
          66.8,
          66.8,
          66.8,
          66,
          66.6
         ],
         "yaxis": "y20"
        }
       ],
       "layout": {
        "annotations": [
         {
          "font": {
           "size": 16
          },
          "showarrow": false,
          "text": "fish_prune_1",
          "x": 0.185,
          "xanchor": "center",
          "xref": "paper",
          "y": 1,
          "yanchor": "bottom",
          "yref": "paper"
         },
         {
          "font": {
           "size": 16
          },
          "showarrow": false,
          "text": "fish_prune_2",
          "x": 0.7550000000000001,
          "xanchor": "center",
          "xref": "paper",
          "y": 1,
          "yanchor": "bottom",
          "yref": "paper"
         },
         {
          "font": {
           "size": 16
          },
          "showarrow": false,
          "text": "fish_prune_3",
          "x": 0.185,
          "xanchor": "center",
          "xref": "paper",
          "y": 0.78,
          "yanchor": "bottom",
          "yref": "paper"
         },
         {
          "font": {
           "size": 16
          },
          "showarrow": false,
          "text": "fish_prune_4",
          "x": 0.7550000000000001,
          "xanchor": "center",
          "xref": "paper",
          "y": 0.78,
          "yanchor": "bottom",
          "yref": "paper"
         },
         {
          "font": {
           "size": 16
          },
          "showarrow": false,
          "text": "fish_prune_5",
          "x": 0.185,
          "xanchor": "center",
          "xref": "paper",
          "y": 0.56,
          "yanchor": "bottom",
          "yref": "paper"
         },
         {
          "font": {
           "size": 16
          },
          "showarrow": false,
          "text": "fish_prune_6",
          "x": 0.7550000000000001,
          "xanchor": "center",
          "xref": "paper",
          "y": 0.56,
          "yanchor": "bottom",
          "yref": "paper"
         },
         {
          "font": {
           "size": 16
          },
          "showarrow": false,
          "text": "fish_prune_7",
          "x": 0.185,
          "xanchor": "center",
          "xref": "paper",
          "y": 0.33999999999999997,
          "yanchor": "bottom",
          "yref": "paper"
         },
         {
          "font": {
           "size": 16
          },
          "showarrow": false,
          "text": "fish_prune_8",
          "x": 0.7550000000000001,
          "xanchor": "center",
          "xref": "paper",
          "y": 0.33999999999999997,
          "yanchor": "bottom",
          "yref": "paper"
         },
         {
          "font": {
           "size": 16
          },
          "showarrow": false,
          "text": "fish_prune_9",
          "x": 0.185,
          "xanchor": "center",
          "xref": "paper",
          "y": 0.12,
          "yanchor": "bottom",
          "yref": "paper"
         },
         {
          "font": {
           "size": 16
          },
          "showarrow": false,
          "text": "fish_prune_10",
          "x": 0.7550000000000001,
          "xanchor": "center",
          "xref": "paper",
          "y": 0.12,
          "yanchor": "bottom",
          "yref": "paper"
         }
        ],
        "height": 1500,
        "legend": {
         "orientation": "h",
         "x": 0.5,
         "xanchor": "center",
         "y": -0.1
        },
        "template": {
         "data": {
          "bar": [
           {
            "error_x": {
             "color": "#f2f5fa"
            },
            "error_y": {
             "color": "#f2f5fa"
            },
            "marker": {
             "line": {
              "color": "rgb(17,17,17)",
              "width": 0.5
             },
             "pattern": {
              "fillmode": "overlay",
              "size": 10,
              "solidity": 0.2
             }
            },
            "type": "bar"
           }
          ],
          "barpolar": [
           {
            "marker": {
             "line": {
              "color": "rgb(17,17,17)",
              "width": 0.5
             },
             "pattern": {
              "fillmode": "overlay",
              "size": 10,
              "solidity": 0.2
             }
            },
            "type": "barpolar"
           }
          ],
          "carpet": [
           {
            "aaxis": {
             "endlinecolor": "#A2B1C6",
             "gridcolor": "#506784",
             "linecolor": "#506784",
             "minorgridcolor": "#506784",
             "startlinecolor": "#A2B1C6"
            },
            "baxis": {
             "endlinecolor": "#A2B1C6",
             "gridcolor": "#506784",
             "linecolor": "#506784",
             "minorgridcolor": "#506784",
             "startlinecolor": "#A2B1C6"
            },
            "type": "carpet"
           }
          ],
          "choropleth": [
           {
            "colorbar": {
             "outlinewidth": 0,
             "ticks": ""
            },
            "type": "choropleth"
           }
          ],
          "contour": [
           {
            "colorbar": {
             "outlinewidth": 0,
             "ticks": ""
            },
            "colorscale": [
             [
              0,
              "#0d0887"
             ],
             [
              0.1111111111111111,
              "#46039f"
             ],
             [
              0.2222222222222222,
              "#7201a8"
             ],
             [
              0.3333333333333333,
              "#9c179e"
             ],
             [
              0.4444444444444444,
              "#bd3786"
             ],
             [
              0.5555555555555556,
              "#d8576b"
             ],
             [
              0.6666666666666666,
              "#ed7953"
             ],
             [
              0.7777777777777778,
              "#fb9f3a"
             ],
             [
              0.8888888888888888,
              "#fdca26"
             ],
             [
              1,
              "#f0f921"
             ]
            ],
            "type": "contour"
           }
          ],
          "contourcarpet": [
           {
            "colorbar": {
             "outlinewidth": 0,
             "ticks": ""
            },
            "type": "contourcarpet"
           }
          ],
          "heatmap": [
           {
            "colorbar": {
             "outlinewidth": 0,
             "ticks": ""
            },
            "colorscale": [
             [
              0,
              "#0d0887"
             ],
             [
              0.1111111111111111,
              "#46039f"
             ],
             [
              0.2222222222222222,
              "#7201a8"
             ],
             [
              0.3333333333333333,
              "#9c179e"
             ],
             [
              0.4444444444444444,
              "#bd3786"
             ],
             [
              0.5555555555555556,
              "#d8576b"
             ],
             [
              0.6666666666666666,
              "#ed7953"
             ],
             [
              0.7777777777777778,
              "#fb9f3a"
             ],
             [
              0.8888888888888888,
              "#fdca26"
             ],
             [
              1,
              "#f0f921"
             ]
            ],
            "type": "heatmap"
           }
          ],
          "heatmapgl": [
           {
            "colorbar": {
             "outlinewidth": 0,
             "ticks": ""
            },
            "colorscale": [
             [
              0,
              "#0d0887"
             ],
             [
              0.1111111111111111,
              "#46039f"
             ],
             [
              0.2222222222222222,
              "#7201a8"
             ],
             [
              0.3333333333333333,
              "#9c179e"
             ],
             [
              0.4444444444444444,
              "#bd3786"
             ],
             [
              0.5555555555555556,
              "#d8576b"
             ],
             [
              0.6666666666666666,
              "#ed7953"
             ],
             [
              0.7777777777777778,
              "#fb9f3a"
             ],
             [
              0.8888888888888888,
              "#fdca26"
             ],
             [
              1,
              "#f0f921"
             ]
            ],
            "type": "heatmapgl"
           }
          ],
          "histogram": [
           {
            "marker": {
             "pattern": {
              "fillmode": "overlay",
              "size": 10,
              "solidity": 0.2
             }
            },
            "type": "histogram"
           }
          ],
          "histogram2d": [
           {
            "colorbar": {
             "outlinewidth": 0,
             "ticks": ""
            },
            "colorscale": [
             [
              0,
              "#0d0887"
             ],
             [
              0.1111111111111111,
              "#46039f"
             ],
             [
              0.2222222222222222,
              "#7201a8"
             ],
             [
              0.3333333333333333,
              "#9c179e"
             ],
             [
              0.4444444444444444,
              "#bd3786"
             ],
             [
              0.5555555555555556,
              "#d8576b"
             ],
             [
              0.6666666666666666,
              "#ed7953"
             ],
             [
              0.7777777777777778,
              "#fb9f3a"
             ],
             [
              0.8888888888888888,
              "#fdca26"
             ],
             [
              1,
              "#f0f921"
             ]
            ],
            "type": "histogram2d"
           }
          ],
          "histogram2dcontour": [
           {
            "colorbar": {
             "outlinewidth": 0,
             "ticks": ""
            },
            "colorscale": [
             [
              0,
              "#0d0887"
             ],
             [
              0.1111111111111111,
              "#46039f"
             ],
             [
              0.2222222222222222,
              "#7201a8"
             ],
             [
              0.3333333333333333,
              "#9c179e"
             ],
             [
              0.4444444444444444,
              "#bd3786"
             ],
             [
              0.5555555555555556,
              "#d8576b"
             ],
             [
              0.6666666666666666,
              "#ed7953"
             ],
             [
              0.7777777777777778,
              "#fb9f3a"
             ],
             [
              0.8888888888888888,
              "#fdca26"
             ],
             [
              1,
              "#f0f921"
             ]
            ],
            "type": "histogram2dcontour"
           }
          ],
          "mesh3d": [
           {
            "colorbar": {
             "outlinewidth": 0,
             "ticks": ""
            },
            "type": "mesh3d"
           }
          ],
          "parcoords": [
           {
            "line": {
             "colorbar": {
              "outlinewidth": 0,
              "ticks": ""
             }
            },
            "type": "parcoords"
           }
          ],
          "pie": [
           {
            "automargin": true,
            "type": "pie"
           }
          ],
          "scatter": [
           {
            "marker": {
             "line": {
              "color": "#283442"
             }
            },
            "type": "scatter"
           }
          ],
          "scatter3d": [
           {
            "line": {
             "colorbar": {
              "outlinewidth": 0,
              "ticks": ""
             }
            },
            "marker": {
             "colorbar": {
              "outlinewidth": 0,
              "ticks": ""
             }
            },
            "type": "scatter3d"
           }
          ],
          "scattercarpet": [
           {
            "marker": {
             "colorbar": {
              "outlinewidth": 0,
              "ticks": ""
             }
            },
            "type": "scattercarpet"
           }
          ],
          "scattergeo": [
           {
            "marker": {
             "colorbar": {
              "outlinewidth": 0,
              "ticks": ""
             }
            },
            "type": "scattergeo"
           }
          ],
          "scattergl": [
           {
            "marker": {
             "line": {
              "color": "#283442"
             }
            },
            "type": "scattergl"
           }
          ],
          "scattermapbox": [
           {
            "marker": {
             "colorbar": {
              "outlinewidth": 0,
              "ticks": ""
             }
            },
            "type": "scattermapbox"
           }
          ],
          "scatterpolar": [
           {
            "marker": {
             "colorbar": {
              "outlinewidth": 0,
              "ticks": ""
             }
            },
            "type": "scatterpolar"
           }
          ],
          "scatterpolargl": [
           {
            "marker": {
             "colorbar": {
              "outlinewidth": 0,
              "ticks": ""
             }
            },
            "type": "scatterpolargl"
           }
          ],
          "scatterternary": [
           {
            "marker": {
             "colorbar": {
              "outlinewidth": 0,
              "ticks": ""
             }
            },
            "type": "scatterternary"
           }
          ],
          "surface": [
           {
            "colorbar": {
             "outlinewidth": 0,
             "ticks": ""
            },
            "colorscale": [
             [
              0,
              "#0d0887"
             ],
             [
              0.1111111111111111,
              "#46039f"
             ],
             [
              0.2222222222222222,
              "#7201a8"
             ],
             [
              0.3333333333333333,
              "#9c179e"
             ],
             [
              0.4444444444444444,
              "#bd3786"
             ],
             [
              0.5555555555555556,
              "#d8576b"
             ],
             [
              0.6666666666666666,
              "#ed7953"
             ],
             [
              0.7777777777777778,
              "#fb9f3a"
             ],
             [
              0.8888888888888888,
              "#fdca26"
             ],
             [
              1,
              "#f0f921"
             ]
            ],
            "type": "surface"
           }
          ],
          "table": [
           {
            "cells": {
             "fill": {
              "color": "#506784"
             },
             "line": {
              "color": "rgb(17,17,17)"
             }
            },
            "header": {
             "fill": {
              "color": "#2a3f5f"
             },
             "line": {
              "color": "rgb(17,17,17)"
             }
            },
            "type": "table"
           }
          ]
         },
         "layout": {
          "annotationdefaults": {
           "arrowcolor": "#f2f5fa",
           "arrowhead": 0,
           "arrowwidth": 1
          },
          "autotypenumbers": "strict",
          "coloraxis": {
           "colorbar": {
            "outlinewidth": 0,
            "ticks": ""
           }
          },
          "colorscale": {
           "diverging": [
            [
             0,
             "#8e0152"
            ],
            [
             0.1,
             "#c51b7d"
            ],
            [
             0.2,
             "#de77ae"
            ],
            [
             0.3,
             "#f1b6da"
            ],
            [
             0.4,
             "#fde0ef"
            ],
            [
             0.5,
             "#f7f7f7"
            ],
            [
             0.6,
             "#e6f5d0"
            ],
            [
             0.7,
             "#b8e186"
            ],
            [
             0.8,
             "#7fbc41"
            ],
            [
             0.9,
             "#4d9221"
            ],
            [
             1,
             "#276419"
            ]
           ],
           "sequential": [
            [
             0,
             "#0d0887"
            ],
            [
             0.1111111111111111,
             "#46039f"
            ],
            [
             0.2222222222222222,
             "#7201a8"
            ],
            [
             0.3333333333333333,
             "#9c179e"
            ],
            [
             0.4444444444444444,
             "#bd3786"
            ],
            [
             0.5555555555555556,
             "#d8576b"
            ],
            [
             0.6666666666666666,
             "#ed7953"
            ],
            [
             0.7777777777777778,
             "#fb9f3a"
            ],
            [
             0.8888888888888888,
             "#fdca26"
            ],
            [
             1,
             "#f0f921"
            ]
           ],
           "sequentialminus": [
            [
             0,
             "#0d0887"
            ],
            [
             0.1111111111111111,
             "#46039f"
            ],
            [
             0.2222222222222222,
             "#7201a8"
            ],
            [
             0.3333333333333333,
             "#9c179e"
            ],
            [
             0.4444444444444444,
             "#bd3786"
            ],
            [
             0.5555555555555556,
             "#d8576b"
            ],
            [
             0.6666666666666666,
             "#ed7953"
            ],
            [
             0.7777777777777778,
             "#fb9f3a"
            ],
            [
             0.8888888888888888,
             "#fdca26"
            ],
            [
             1,
             "#f0f921"
            ]
           ]
          },
          "colorway": [
           "#636efa",
           "#EF553B",
           "#00cc96",
           "#ab63fa",
           "#FFA15A",
           "#19d3f3",
           "#FF6692",
           "#B6E880",
           "#FF97FF",
           "#FECB52"
          ],
          "font": {
           "color": "#f2f5fa"
          },
          "geo": {
           "bgcolor": "rgb(17,17,17)",
           "lakecolor": "rgb(17,17,17)",
           "landcolor": "rgb(17,17,17)",
           "showlakes": true,
           "showland": true,
           "subunitcolor": "#506784"
          },
          "hoverlabel": {
           "align": "left"
          },
          "hovermode": "closest",
          "mapbox": {
           "style": "dark"
          },
          "paper_bgcolor": "rgb(17,17,17)",
          "plot_bgcolor": "rgb(17,17,17)",
          "polar": {
           "angularaxis": {
            "gridcolor": "#506784",
            "linecolor": "#506784",
            "ticks": ""
           },
           "bgcolor": "rgb(17,17,17)",
           "radialaxis": {
            "gridcolor": "#506784",
            "linecolor": "#506784",
            "ticks": ""
           }
          },
          "scene": {
           "xaxis": {
            "backgroundcolor": "rgb(17,17,17)",
            "gridcolor": "#506784",
            "gridwidth": 2,
            "linecolor": "#506784",
            "showbackground": true,
            "ticks": "",
            "zerolinecolor": "#C8D4E3"
           },
           "yaxis": {
            "backgroundcolor": "rgb(17,17,17)",
            "gridcolor": "#506784",
            "gridwidth": 2,
            "linecolor": "#506784",
            "showbackground": true,
            "ticks": "",
            "zerolinecolor": "#C8D4E3"
           },
           "zaxis": {
            "backgroundcolor": "rgb(17,17,17)",
            "gridcolor": "#506784",
            "gridwidth": 2,
            "linecolor": "#506784",
            "showbackground": true,
            "ticks": "",
            "zerolinecolor": "#C8D4E3"
           }
          },
          "shapedefaults": {
           "line": {
            "color": "#f2f5fa"
           }
          },
          "sliderdefaults": {
           "bgcolor": "#C8D4E3",
           "bordercolor": "rgb(17,17,17)",
           "borderwidth": 1,
           "tickwidth": 0
          },
          "ternary": {
           "aaxis": {
            "gridcolor": "#506784",
            "linecolor": "#506784",
            "ticks": ""
           },
           "baxis": {
            "gridcolor": "#506784",
            "linecolor": "#506784",
            "ticks": ""
           },
           "bgcolor": "rgb(17,17,17)",
           "caxis": {
            "gridcolor": "#506784",
            "linecolor": "#506784",
            "ticks": ""
           }
          },
          "title": {
           "x": 0.05
          },
          "updatemenudefaults": {
           "bgcolor": "#506784",
           "borderwidth": 0
          },
          "xaxis": {
           "automargin": true,
           "gridcolor": "#283442",
           "linecolor": "#506784",
           "ticks": "",
           "title": {
            "standoff": 15
           },
           "zerolinecolor": "#283442",
           "zerolinewidth": 2
          },
          "yaxis": {
           "automargin": true,
           "gridcolor": "#283442",
           "linecolor": "#506784",
           "ticks": "",
           "title": {
            "standoff": 15
           },
           "zerolinecolor": "#283442",
           "zerolinewidth": 2
          }
         }
        },
        "title": {
         "text": "fish Prune Stages (Epoch 1-20)"
        },
        "width": 1000,
        "xaxis": {
         "anchor": "y",
         "domain": [
          0,
          0.37
         ]
        },
        "xaxis10": {
         "anchor": "y19",
         "domain": [
          0.5700000000000001,
          0.9400000000000001
         ]
        },
        "xaxis2": {
         "anchor": "y3",
         "domain": [
          0.5700000000000001,
          0.9400000000000001
         ]
        },
        "xaxis3": {
         "anchor": "y5",
         "domain": [
          0,
          0.37
         ]
        },
        "xaxis4": {
         "anchor": "y7",
         "domain": [
          0.5700000000000001,
          0.9400000000000001
         ]
        },
        "xaxis5": {
         "anchor": "y9",
         "domain": [
          0,
          0.37
         ]
        },
        "xaxis6": {
         "anchor": "y11",
         "domain": [
          0.5700000000000001,
          0.9400000000000001
         ]
        },
        "xaxis7": {
         "anchor": "y13",
         "domain": [
          0,
          0.37
         ]
        },
        "xaxis8": {
         "anchor": "y15",
         "domain": [
          0.5700000000000001,
          0.9400000000000001
         ]
        },
        "xaxis9": {
         "anchor": "y17",
         "domain": [
          0,
          0.37
         ]
        },
        "yaxis": {
         "anchor": "x",
         "domain": [
          0.88,
          1
         ]
        },
        "yaxis10": {
         "anchor": "x5",
         "overlaying": "y9",
         "side": "right"
        },
        "yaxis11": {
         "anchor": "x6",
         "domain": [
          0.44,
          0.56
         ]
        },
        "yaxis12": {
         "anchor": "x6",
         "overlaying": "y11",
         "side": "right"
        },
        "yaxis13": {
         "anchor": "x7",
         "domain": [
          0.22,
          0.33999999999999997
         ]
        },
        "yaxis14": {
         "anchor": "x7",
         "overlaying": "y13",
         "side": "right"
        },
        "yaxis15": {
         "anchor": "x8",
         "domain": [
          0.22,
          0.33999999999999997
         ]
        },
        "yaxis16": {
         "anchor": "x8",
         "overlaying": "y15",
         "side": "right"
        },
        "yaxis17": {
         "anchor": "x9",
         "domain": [
          0,
          0.12
         ]
        },
        "yaxis18": {
         "anchor": "x9",
         "overlaying": "y17",
         "side": "right"
        },
        "yaxis19": {
         "anchor": "x10",
         "domain": [
          0,
          0.12
         ]
        },
        "yaxis2": {
         "anchor": "x",
         "overlaying": "y",
         "side": "right"
        },
        "yaxis20": {
         "anchor": "x10",
         "overlaying": "y19",
         "side": "right"
        },
        "yaxis3": {
         "anchor": "x2",
         "domain": [
          0.88,
          1
         ]
        },
        "yaxis4": {
         "anchor": "x2",
         "overlaying": "y3",
         "side": "right"
        },
        "yaxis5": {
         "anchor": "x3",
         "domain": [
          0.66,
          0.78
         ]
        },
        "yaxis6": {
         "anchor": "x3",
         "overlaying": "y5",
         "side": "right"
        },
        "yaxis7": {
         "anchor": "x4",
         "domain": [
          0.66,
          0.78
         ]
        },
        "yaxis8": {
         "anchor": "x4",
         "overlaying": "y7",
         "side": "right"
        },
        "yaxis9": {
         "anchor": "x5",
         "domain": [
          0.44,
          0.56
         ]
        }
       }
      },
      "text/html": [
       "<div>                            <div id=\"09b1739b-fd4d-4c00-afa5-eea5a61ea400\" class=\"plotly-graph-div\" style=\"height:1500px; width:1000px;\"></div>            <script type=\"text/javascript\">                require([\"plotly\"], function(Plotly) {                    window.PLOTLYENV=window.PLOTLYENV || {};                                    if (document.getElementById(\"09b1739b-fd4d-4c00-afa5-eea5a61ea400\")) {                    Plotly.newPlot(                        \"09b1739b-fd4d-4c00-afa5-eea5a61ea400\",                        [{\"line\":{\"color\":\"blue\",\"dash\":\"dash\"},\"mode\":\"lines\",\"name\":\"Train Loss\",\"x\":[1,2,3,4,5,6,7,8,9,10,11,12,13,14,15,16,17,18,19,20],\"y\":[0.638,0.637,0.634,0.634,0.643,0.629,0.629,0.637,0.624,0.651,0.635,0.627,0.639,0.627,0.637,0.635,0.639,0.647,0.625,0.628],\"type\":\"scatter\",\"xaxis\":\"x\",\"yaxis\":\"y\"},{\"line\":{\"color\":\"red\",\"dash\":\"dash\"},\"mode\":\"lines\",\"name\":\"Val Loss\",\"x\":[1,2,3,4,5,6,7,8,9,10,11,12,13,14,15,16,17,18,19,20],\"y\":[0.753,0.732,0.748,0.738,0.739,0.744,0.737,0.737,0.741,0.738,0.734,0.757,0.751,0.743,0.747,0.742,0.743,0.742,0.754,0.738],\"type\":\"scatter\",\"xaxis\":\"x\",\"yaxis\":\"y\"},{\"line\":{\"color\":\"purple\"},\"mode\":\"lines\",\"name\":\"Train Accuracy\",\"x\":[1,2,3,4,5,6,7,8,9,10,11,12,13,14,15,16,17,18,19,20],\"y\":[75.6,75.92,76.44,75.68,74.88,76.36,76.2,75.2,75.48,75.6,75.8,76.2,75.64,76.08,75.32,75.72,75.72,75.08,75.52,76.52],\"type\":\"scatter\",\"xaxis\":\"x\",\"yaxis\":\"y2\"},{\"line\":{\"color\":\"green\"},\"mode\":\"lines\",\"name\":\"Val Accuracy\",\"x\":[1,2,3,4,5,6,7,8,9,10,11,12,13,14,15,16,17,18,19,20],\"y\":[72.4,73.2,71.8,72.2,71.8,73.2,72.0,71.8,72.4,71.8,73.2,72.4,71.6,72.8,70.4,71.4,71.2,72.0,70.8,72.4],\"type\":\"scatter\",\"xaxis\":\"x\",\"yaxis\":\"y2\"},{\"line\":{\"color\":\"blue\",\"dash\":\"dash\"},\"mode\":\"lines\",\"name\":\"Train Loss\",\"x\":[1,2,3,4,5,6,7,8,9,10,11,12,13,14,15,16,17,18,19,20],\"y\":[0.611,0.613,0.608,0.61,0.614,0.6,0.599,0.607,0.597,0.625,0.608,0.601,0.611,0.603,0.609,0.609,0.612,0.619,0.598,0.601],\"type\":\"scatter\",\"xaxis\":\"x2\",\"yaxis\":\"y3\"},{\"line\":{\"color\":\"red\",\"dash\":\"dash\"},\"mode\":\"lines\",\"name\":\"Val Loss\",\"x\":[1,2,3,4,5,6,7,8,9,10,11,12,13,14,15,16,17,18,19,20],\"y\":[0.753,0.738,0.754,0.736,0.736,0.742,0.732,0.734,0.741,0.735,0.73,0.755,0.752,0.743,0.745,0.741,0.744,0.741,0.752,0.736],\"type\":\"scatter\",\"xaxis\":\"x2\",\"yaxis\":\"y3\"},{\"line\":{\"color\":\"purple\"},\"mode\":\"lines\",\"name\":\"Train Accuracy\",\"x\":[1,2,3,4,5,6,7,8,9,10,11,12,13,14,15,16,17,18,19,20],\"y\":[76.96,76.76,77.36,76.48,76.28,78.04,77.12,76.32,76.76,76.16,76.12,76.92,77.08,76.72,76.84,76.32,76.6,76.2,77.32,77.8],\"type\":\"scatter\",\"xaxis\":\"x2\",\"yaxis\":\"y4\"},{\"line\":{\"color\":\"green\"},\"mode\":\"lines\",\"name\":\"Val Accuracy\",\"x\":[1,2,3,4,5,6,7,8,9,10,11,12,13,14,15,16,17,18,19,20],\"y\":[72.8,73.0,72.2,71.8,71.4,73.2,71.2,71.4,72.4,71.2,72.6,72.8,71.4,72.6,70.6,71.4,71.8,72.0,71.0,71.8],\"type\":\"scatter\",\"xaxis\":\"x2\",\"yaxis\":\"y4\"},{\"line\":{\"color\":\"blue\",\"dash\":\"dash\"},\"mode\":\"lines\",\"name\":\"Train Loss\",\"x\":[1,2,3,4,5,6,7,8,9,10,11,12,13,14,15,16,17,18,19,20],\"y\":[0.583,0.592,0.586,0.587,0.591,0.575,0.574,0.58,0.572,0.601,0.582,0.578,0.586,0.579,0.582,0.585,0.588,0.591,0.573,0.576],\"type\":\"scatter\",\"xaxis\":\"x3\",\"yaxis\":\"y5\"},{\"line\":{\"color\":\"red\",\"dash\":\"dash\"},\"mode\":\"lines\",\"name\":\"Val Loss\",\"x\":[1,2,3,4,5,6,7,8,9,10,11,12,13,14,15,16,17,18,19,20],\"y\":[0.741,0.736,0.75,0.732,0.735,0.737,0.728,0.731,0.741,0.73,0.727,0.756,0.754,0.741,0.747,0.739,0.743,0.739,0.752,0.739],\"type\":\"scatter\",\"xaxis\":\"x3\",\"yaxis\":\"y5\"},{\"line\":{\"color\":\"purple\"},\"mode\":\"lines\",\"name\":\"Train Accuracy\",\"x\":[1,2,3,4,5,6,7,8,9,10,11,12,13,14,15,16,17,18,19,20],\"y\":[78.12,77.48,77.88,77.76,77.52,79.12,77.88,77.16,78.0,77.36,77.68,78.0,78.2,77.6,78.04,77.88,77.4,77.88,78.44,79.12],\"type\":\"scatter\",\"xaxis\":\"x3\",\"yaxis\":\"y6\"},{\"line\":{\"color\":\"green\"},\"mode\":\"lines\",\"name\":\"Val Accuracy\",\"x\":[1,2,3,4,5,6,7,8,9,10,11,12,13,14,15,16,17,18,19,20],\"y\":[72.8,73.0,72.0,72.4,71.4,73.2,71.0,71.4,72.4,72.2,72.4,72.8,72.0,72.2,70.8,72.0,71.2,72.0,70.8,72.8],\"type\":\"scatter\",\"xaxis\":\"x3\",\"yaxis\":\"y6\"},{\"line\":{\"color\":\"blue\",\"dash\":\"dash\"},\"mode\":\"lines\",\"name\":\"Train Loss\",\"x\":[1,2,3,4,5,6,7,8,9,10,11,12,13,14,15,16,17,18,19,20],\"y\":[0.555,0.574,0.568,0.566,0.57,0.551,0.551,0.556,0.548,0.577,0.559,0.555,0.559,0.555,0.556,0.561,0.566,0.566,0.548,0.551],\"type\":\"scatter\",\"xaxis\":\"x4\",\"yaxis\":\"y7\"},{\"line\":{\"color\":\"red\",\"dash\":\"dash\"},\"mode\":\"lines\",\"name\":\"Val Loss\",\"x\":[1,2,3,4,5,6,7,8,9,10,11,12,13,14,15,16,17,18,19,20],\"y\":[0.77,0.739,0.738,0.732,0.727,0.731,0.722,0.725,0.737,0.722,0.721,0.75,0.75,0.736,0.743,0.732,0.744,0.735,0.751,0.737],\"type\":\"scatter\",\"xaxis\":\"x4\",\"yaxis\":\"y7\"},{\"line\":{\"color\":\"purple\"},\"mode\":\"lines\",\"name\":\"Train Accuracy\",\"x\":[1,2,3,4,5,6,7,8,9,10,11,12,13,14,15,16,17,18,19,20],\"y\":[79.68,78.4,78.24,78.84,78.84,80.52,79.0,78.24,79.0,78.2,78.92,79.16,79.28,79.28,79.24,79.28,78.2,78.64,79.44,80.04],\"type\":\"scatter\",\"xaxis\":\"x4\",\"yaxis\":\"y8\"},{\"line\":{\"color\":\"green\"},\"mode\":\"lines\",\"name\":\"Val Accuracy\",\"x\":[1,2,3,4,5,6,7,8,9,10,11,12,13,14,15,16,17,18,19,20],\"y\":[72.6,72.2,72.6,72.0,71.6,73.6,72.4,72.0,72.0,71.8,73.2,73.0,72.2,71.8,71.6,72.2,71.8,72.8,71.0,72.4],\"type\":\"scatter\",\"xaxis\":\"x4\",\"yaxis\":\"y8\"},{\"line\":{\"color\":\"blue\",\"dash\":\"dash\"},\"mode\":\"lines\",\"name\":\"Train Loss\",\"x\":[1,2,3,4,5,6,7,8,9,10,11,12,13,14,15,16,17,18,19,20],\"y\":[0.528,0.554,0.554,0.552,0.549,0.529,0.53,0.532,0.525,0.554,0.535,0.531,0.535,0.532,0.532,0.54,0.545,0.543,0.529,0.528],\"type\":\"scatter\",\"xaxis\":\"x5\",\"yaxis\":\"y9\"},{\"line\":{\"color\":\"red\",\"dash\":\"dash\"},\"mode\":\"lines\",\"name\":\"Val Loss\",\"x\":[1,2,3,4,5,6,7,8,9,10,11,12,13,14,15,16,17,18,19,20],\"y\":[0.809,0.746,0.774,0.744,0.741,0.746,0.736,0.743,0.75,0.734,0.729,0.76,0.761,0.744,0.756,0.745,0.756,0.748,0.762,0.748],\"type\":\"scatter\",\"xaxis\":\"x5\",\"yaxis\":\"y9\"},{\"line\":{\"color\":\"purple\"},\"mode\":\"lines\",\"name\":\"Train Accuracy\",\"x\":[1,2,3,4,5,6,7,8,9,10,11,12,13,14,15,16,17,18,19,20],\"y\":[80.52,79.08,79.0,79.36,79.0,81.16,79.56,79.72,79.76,79.32,79.92,80.12,79.84,80.48,80.08,80.28,79.08,80.04,79.96,80.76],\"type\":\"scatter\",\"xaxis\":\"x5\",\"yaxis\":\"y10\"},{\"line\":{\"color\":\"green\"},\"mode\":\"lines\",\"name\":\"Val Accuracy\",\"x\":[1,2,3,4,5,6,7,8,9,10,11,12,13,14,15,16,17,18,19,20],\"y\":[70.8,72.8,70.8,72.0,71.6,72.8,71.6,71.6,71.0,71.4,72.0,71.2,72.4,71.8,70.8,70.8,71.4,71.0,70.4,72.2],\"type\":\"scatter\",\"xaxis\":\"x5\",\"yaxis\":\"y10\"},{\"line\":{\"color\":\"blue\",\"dash\":\"dash\"},\"mode\":\"lines\",\"name\":\"Train Loss\",\"x\":[1,2,3,4,5,6,7,8,9,10,11,12,13,14,15,16,17,18,19,20],\"y\":[0.503,0.553,0.543,0.548,0.544,0.517,0.517,0.522,0.514,0.545,0.518,0.521,0.518,0.517,0.514,0.524,0.53,0.524,0.51,0.513],\"type\":\"scatter\",\"xaxis\":\"x6\",\"yaxis\":\"y11\"},{\"line\":{\"color\":\"red\",\"dash\":\"dash\"},\"mode\":\"lines\",\"name\":\"Val Loss\",\"x\":[1,2,3,4,5,6,7,8,9,10,11,12,13,14,15,16,17,18,19,20],\"y\":[0.829,0.819,0.808,0.733,0.738,0.746,0.741,0.744,0.751,0.734,0.734,0.772,0.767,0.745,0.76,0.753,0.766,0.758,0.766,0.754],\"type\":\"scatter\",\"xaxis\":\"x6\",\"yaxis\":\"y11\"},{\"line\":{\"color\":\"purple\"},\"mode\":\"lines\",\"name\":\"Train Accuracy\",\"x\":[1,2,3,4,5,6,7,8,9,10,11,12,13,14,15,16,17,18,19,20],\"y\":[81.56,79.32,79.6,79.36,79.48,81.52,80.2,79.84,79.96,79.68,80.4,80.52,80.56,81.08,81.32,80.76,79.88,80.76,80.84,80.96],\"type\":\"scatter\",\"xaxis\":\"x6\",\"yaxis\":\"y12\"},{\"line\":{\"color\":\"green\"},\"mode\":\"lines\",\"name\":\"Val Accuracy\",\"x\":[1,2,3,4,5,6,7,8,9,10,11,12,13,14,15,16,17,18,19,20],\"y\":[70.4,70.6,70.8,73.4,73.2,73.6,72.4,72.4,73.6,72.0,72.4,72.6,71.8,72.2,72.2,72.6,73.6,72.0,71.2,73.8],\"type\":\"scatter\",\"xaxis\":\"x6\",\"yaxis\":\"y12\"},{\"line\":{\"color\":\"blue\",\"dash\":\"dash\"},\"mode\":\"lines\",\"name\":\"Train Loss\",\"x\":[1,2,3,4,5,6,7,8,9,10,11,12,13,14,15,16,17,18,19,20],\"y\":[0.489,0.559,0.571,0.556,0.543,0.512,0.517,0.514,0.509,0.542,0.512,0.516,0.514,0.506,0.507,0.518,0.518,0.518,0.501,0.506],\"type\":\"scatter\",\"xaxis\":\"x7\",\"yaxis\":\"y13\"},{\"line\":{\"color\":\"red\",\"dash\":\"dash\"},\"mode\":\"lines\",\"name\":\"Val Loss\",\"x\":[1,2,3,4,5,6,7,8,9,10,11,12,13,14,15,16,17,18,19,20],\"y\":[0.954,0.825,0.771,0.757,0.757,0.748,0.746,0.747,0.757,0.742,0.74,0.774,0.766,0.75,0.757,0.76,0.771,0.761,0.773,0.754],\"type\":\"scatter\",\"xaxis\":\"x7\",\"yaxis\":\"y13\"},{\"line\":{\"color\":\"purple\"},\"mode\":\"lines\",\"name\":\"Train Accuracy\",\"x\":[1,2,3,4,5,6,7,8,9,10,11,12,13,14,15,16,17,18,19,20],\"y\":[82.2,78.6,78.56,79.24,79.6,81.76,80.16,80.52,80.56,80.12,80.44,80.2,80.56,80.72,81.6,80.76,80.32,80.68,81.28,81.44],\"type\":\"scatter\",\"xaxis\":\"x7\",\"yaxis\":\"y14\"},{\"line\":{\"color\":\"green\"},\"mode\":\"lines\",\"name\":\"Val Accuracy\",\"x\":[1,2,3,4,5,6,7,8,9,10,11,12,13,14,15,16,17,18,19,20],\"y\":[66.2,68.0,68.8,70.2,70.0,72.6,71.0,71.8,71.2,71.0,72.0,71.8,71.6,72.2,71.6,71.6,72.4,71.6,71.0,70.8],\"type\":\"scatter\",\"xaxis\":\"x7\",\"yaxis\":\"y14\"},{\"line\":{\"color\":\"blue\",\"dash\":\"dash\"},\"mode\":\"lines\",\"name\":\"Train Loss\",\"x\":[1,2,3,4,5,6,7,8,9,10,11,12,13,14,15,16,17,18,19,20],\"y\":[0.481,0.68,0.636,0.666,0.613,0.586,0.593,0.586,0.572,0.591,0.565,0.576,0.565,0.571,0.554,0.561,0.556,0.568,0.548,0.552],\"type\":\"scatter\",\"xaxis\":\"x8\",\"yaxis\":\"y15\"},{\"line\":{\"color\":\"red\",\"dash\":\"dash\"},\"mode\":\"lines\",\"name\":\"Val Loss\",\"x\":[1,2,3,4,5,6,7,8,9,10,11,12,13,14,15,16,17,18,19,20],\"y\":[1.038,1.048,0.991,0.804,0.804,0.796,0.805,0.792,0.794,0.803,0.793,0.814,0.818,0.78,0.801,0.793,0.797,0.786,0.799,0.785],\"type\":\"scatter\",\"xaxis\":\"x8\",\"yaxis\":\"y15\"},{\"line\":{\"color\":\"purple\"},\"mode\":\"lines\",\"name\":\"Train Accuracy\",\"x\":[1,2,3,4,5,6,7,8,9,10,11,12,13,14,15,16,17,18,19,20],\"y\":[82.36,73.32,75.48,74.36,75.88,77.68,77.4,78.48,78.52,77.64,78.68,77.76,79.2,78.88,79.56,79.04,78.72,79.4,79.36,79.4],\"type\":\"scatter\",\"xaxis\":\"x8\",\"yaxis\":\"y16\"},{\"line\":{\"color\":\"green\"},\"mode\":\"lines\",\"name\":\"Val Accuracy\",\"x\":[1,2,3,4,5,6,7,8,9,10,11,12,13,14,15,16,17,18,19,20],\"y\":[64.4,62.4,61.2,69.0,68.8,69.6,68.4,68.8,69.6,69.4,70.2,70.6,69.0,70.0,70.0,70.8,70.4,70.8,69.6,69.6],\"type\":\"scatter\",\"xaxis\":\"x8\",\"yaxis\":\"y16\"},{\"line\":{\"color\":\"blue\",\"dash\":\"dash\"},\"mode\":\"lines\",\"name\":\"Train Loss\",\"x\":[1,2,3,4,5,6,7,8,9,10,11,12,13,14,15,16,17,18,19,20],\"y\":[0.532,0.87,0.908,0.878,0.796,0.749,0.734,0.722,0.732,0.74,0.72,0.711,0.709,0.705,0.696,0.711,0.679,0.709,0.683,0.675],\"type\":\"scatter\",\"xaxis\":\"x9\",\"yaxis\":\"y17\"},{\"line\":{\"color\":\"red\",\"dash\":\"dash\"},\"mode\":\"lines\",\"name\":\"Val Loss\",\"x\":[1,2,3,4,5,6,7,8,9,10,11,12,13,14,15,16,17,18,19,20],\"y\":[1.296,1.411,1.279,0.898,0.84,0.83,0.824,0.825,0.816,0.806,0.809,0.828,0.818,0.809,0.817,0.817,0.819,0.819,0.824,0.813],\"type\":\"scatter\",\"xaxis\":\"x9\",\"yaxis\":\"y17\"},{\"line\":{\"color\":\"purple\"},\"mode\":\"lines\",\"name\":\"Train Accuracy\",\"x\":[1,2,3,4,5,6,7,8,9,10,11,12,13,14,15,16,17,18,19,20],\"y\":[79.36,66.96,64.96,66.24,69.44,71.8,71.2,71.68,71.68,72.76,72.72,72.4,72.16,72.88,73.52,72.64,73.92,72.52,74.04,74.24],\"type\":\"scatter\",\"xaxis\":\"x9\",\"yaxis\":\"y18\"},{\"line\":{\"color\":\"green\"},\"mode\":\"lines\",\"name\":\"Val Accuracy\",\"x\":[1,2,3,4,5,6,7,8,9,10,11,12,13,14,15,16,17,18,19,20],\"y\":[57.8,50.4,55.4,66.2,68.2,68.8,67.4,67.4,68.8,69.2,69.0,68.2,69.4,69.2,68.4,69.2,69.2,69.0,69.0,68.8],\"type\":\"scatter\",\"xaxis\":\"x9\",\"yaxis\":\"y18\"},{\"line\":{\"color\":\"blue\",\"dash\":\"dash\"},\"mode\":\"lines\",\"name\":\"Train Loss\",\"x\":[1,2,3,4,5,6,7,8,9,10,11,12,13,14,15,16,17,18,19,20],\"y\":[0.676,0.813,0.88,0.936,0.858,0.842,0.837,0.822,0.812,0.827,0.797,0.813,0.807,0.8,0.791,0.803,0.784,0.803,0.772,0.788],\"type\":\"scatter\",\"xaxis\":\"x10\",\"yaxis\":\"y19\"},{\"line\":{\"color\":\"red\",\"dash\":\"dash\"},\"mode\":\"lines\",\"name\":\"Val Loss\",\"x\":[1,2,3,4,5,6,7,8,9,10,11,12,13,14,15,16,17,18,19,20],\"y\":[1.361,1.169,1.091,0.954,0.887,0.869,0.858,0.857,0.846,0.843,0.841,0.841,0.845,0.834,0.831,0.831,0.824,0.818,0.826,0.822],\"type\":\"scatter\",\"xaxis\":\"x10\",\"yaxis\":\"y19\"},{\"line\":{\"color\":\"purple\"},\"mode\":\"lines\",\"name\":\"Train Accuracy\",\"x\":[1,2,3,4,5,6,7,8,9,10,11,12,13,14,15,16,17,18,19,20],\"y\":[73.44,69.16,64.72,62.8,66.84,67.64,66.92,67.68,68.36,68.56,68.88,67.64,68.8,69.68,69.8,69.32,69.8,68.8,70.12,69.4],\"type\":\"scatter\",\"xaxis\":\"x10\",\"yaxis\":\"y20\"},{\"line\":{\"color\":\"green\"},\"mode\":\"lines\",\"name\":\"Val Accuracy\",\"x\":[1,2,3,4,5,6,7,8,9,10,11,12,13,14,15,16,17,18,19,20],\"y\":[48.2,53.8,54.8,60.8,64.0,65.4,65.0,65.4,66.4,66.0,66.6,66.0,66.0,68.0,67.0,66.8,66.8,66.8,66.0,66.6],\"type\":\"scatter\",\"xaxis\":\"x10\",\"yaxis\":\"y20\"}],                        {\"template\":{\"data\":{\"histogram2dcontour\":[{\"type\":\"histogram2dcontour\",\"colorbar\":{\"outlinewidth\":0,\"ticks\":\"\"},\"colorscale\":[[0.0,\"#0d0887\"],[0.1111111111111111,\"#46039f\"],[0.2222222222222222,\"#7201a8\"],[0.3333333333333333,\"#9c179e\"],[0.4444444444444444,\"#bd3786\"],[0.5555555555555556,\"#d8576b\"],[0.6666666666666666,\"#ed7953\"],[0.7777777777777778,\"#fb9f3a\"],[0.8888888888888888,\"#fdca26\"],[1.0,\"#f0f921\"]]}],\"choropleth\":[{\"type\":\"choropleth\",\"colorbar\":{\"outlinewidth\":0,\"ticks\":\"\"}}],\"histogram2d\":[{\"type\":\"histogram2d\",\"colorbar\":{\"outlinewidth\":0,\"ticks\":\"\"},\"colorscale\":[[0.0,\"#0d0887\"],[0.1111111111111111,\"#46039f\"],[0.2222222222222222,\"#7201a8\"],[0.3333333333333333,\"#9c179e\"],[0.4444444444444444,\"#bd3786\"],[0.5555555555555556,\"#d8576b\"],[0.6666666666666666,\"#ed7953\"],[0.7777777777777778,\"#fb9f3a\"],[0.8888888888888888,\"#fdca26\"],[1.0,\"#f0f921\"]]}],\"heatmap\":[{\"type\":\"heatmap\",\"colorbar\":{\"outlinewidth\":0,\"ticks\":\"\"},\"colorscale\":[[0.0,\"#0d0887\"],[0.1111111111111111,\"#46039f\"],[0.2222222222222222,\"#7201a8\"],[0.3333333333333333,\"#9c179e\"],[0.4444444444444444,\"#bd3786\"],[0.5555555555555556,\"#d8576b\"],[0.6666666666666666,\"#ed7953\"],[0.7777777777777778,\"#fb9f3a\"],[0.8888888888888888,\"#fdca26\"],[1.0,\"#f0f921\"]]}],\"heatmapgl\":[{\"type\":\"heatmapgl\",\"colorbar\":{\"outlinewidth\":0,\"ticks\":\"\"},\"colorscale\":[[0.0,\"#0d0887\"],[0.1111111111111111,\"#46039f\"],[0.2222222222222222,\"#7201a8\"],[0.3333333333333333,\"#9c179e\"],[0.4444444444444444,\"#bd3786\"],[0.5555555555555556,\"#d8576b\"],[0.6666666666666666,\"#ed7953\"],[0.7777777777777778,\"#fb9f3a\"],[0.8888888888888888,\"#fdca26\"],[1.0,\"#f0f921\"]]}],\"contourcarpet\":[{\"type\":\"contourcarpet\",\"colorbar\":{\"outlinewidth\":0,\"ticks\":\"\"}}],\"contour\":[{\"type\":\"contour\",\"colorbar\":{\"outlinewidth\":0,\"ticks\":\"\"},\"colorscale\":[[0.0,\"#0d0887\"],[0.1111111111111111,\"#46039f\"],[0.2222222222222222,\"#7201a8\"],[0.3333333333333333,\"#9c179e\"],[0.4444444444444444,\"#bd3786\"],[0.5555555555555556,\"#d8576b\"],[0.6666666666666666,\"#ed7953\"],[0.7777777777777778,\"#fb9f3a\"],[0.8888888888888888,\"#fdca26\"],[1.0,\"#f0f921\"]]}],\"surface\":[{\"type\":\"surface\",\"colorbar\":{\"outlinewidth\":0,\"ticks\":\"\"},\"colorscale\":[[0.0,\"#0d0887\"],[0.1111111111111111,\"#46039f\"],[0.2222222222222222,\"#7201a8\"],[0.3333333333333333,\"#9c179e\"],[0.4444444444444444,\"#bd3786\"],[0.5555555555555556,\"#d8576b\"],[0.6666666666666666,\"#ed7953\"],[0.7777777777777778,\"#fb9f3a\"],[0.8888888888888888,\"#fdca26\"],[1.0,\"#f0f921\"]]}],\"mesh3d\":[{\"type\":\"mesh3d\",\"colorbar\":{\"outlinewidth\":0,\"ticks\":\"\"}}],\"scatter\":[{\"marker\":{\"line\":{\"color\":\"#283442\"}},\"type\":\"scatter\"}],\"parcoords\":[{\"type\":\"parcoords\",\"line\":{\"colorbar\":{\"outlinewidth\":0,\"ticks\":\"\"}}}],\"scatterpolargl\":[{\"type\":\"scatterpolargl\",\"marker\":{\"colorbar\":{\"outlinewidth\":0,\"ticks\":\"\"}}}],\"bar\":[{\"error_x\":{\"color\":\"#f2f5fa\"},\"error_y\":{\"color\":\"#f2f5fa\"},\"marker\":{\"line\":{\"color\":\"rgb(17,17,17)\",\"width\":0.5},\"pattern\":{\"fillmode\":\"overlay\",\"size\":10,\"solidity\":0.2}},\"type\":\"bar\"}],\"scattergeo\":[{\"type\":\"scattergeo\",\"marker\":{\"colorbar\":{\"outlinewidth\":0,\"ticks\":\"\"}}}],\"scatterpolar\":[{\"type\":\"scatterpolar\",\"marker\":{\"colorbar\":{\"outlinewidth\":0,\"ticks\":\"\"}}}],\"histogram\":[{\"marker\":{\"pattern\":{\"fillmode\":\"overlay\",\"size\":10,\"solidity\":0.2}},\"type\":\"histogram\"}],\"scattergl\":[{\"marker\":{\"line\":{\"color\":\"#283442\"}},\"type\":\"scattergl\"}],\"scatter3d\":[{\"type\":\"scatter3d\",\"line\":{\"colorbar\":{\"outlinewidth\":0,\"ticks\":\"\"}},\"marker\":{\"colorbar\":{\"outlinewidth\":0,\"ticks\":\"\"}}}],\"scattermapbox\":[{\"type\":\"scattermapbox\",\"marker\":{\"colorbar\":{\"outlinewidth\":0,\"ticks\":\"\"}}}],\"scatterternary\":[{\"type\":\"scatterternary\",\"marker\":{\"colorbar\":{\"outlinewidth\":0,\"ticks\":\"\"}}}],\"scattercarpet\":[{\"type\":\"scattercarpet\",\"marker\":{\"colorbar\":{\"outlinewidth\":0,\"ticks\":\"\"}}}],\"carpet\":[{\"aaxis\":{\"endlinecolor\":\"#A2B1C6\",\"gridcolor\":\"#506784\",\"linecolor\":\"#506784\",\"minorgridcolor\":\"#506784\",\"startlinecolor\":\"#A2B1C6\"},\"baxis\":{\"endlinecolor\":\"#A2B1C6\",\"gridcolor\":\"#506784\",\"linecolor\":\"#506784\",\"minorgridcolor\":\"#506784\",\"startlinecolor\":\"#A2B1C6\"},\"type\":\"carpet\"}],\"table\":[{\"cells\":{\"fill\":{\"color\":\"#506784\"},\"line\":{\"color\":\"rgb(17,17,17)\"}},\"header\":{\"fill\":{\"color\":\"#2a3f5f\"},\"line\":{\"color\":\"rgb(17,17,17)\"}},\"type\":\"table\"}],\"barpolar\":[{\"marker\":{\"line\":{\"color\":\"rgb(17,17,17)\",\"width\":0.5},\"pattern\":{\"fillmode\":\"overlay\",\"size\":10,\"solidity\":0.2}},\"type\":\"barpolar\"}],\"pie\":[{\"automargin\":true,\"type\":\"pie\"}]},\"layout\":{\"autotypenumbers\":\"strict\",\"colorway\":[\"#636efa\",\"#EF553B\",\"#00cc96\",\"#ab63fa\",\"#FFA15A\",\"#19d3f3\",\"#FF6692\",\"#B6E880\",\"#FF97FF\",\"#FECB52\"],\"font\":{\"color\":\"#f2f5fa\"},\"hovermode\":\"closest\",\"hoverlabel\":{\"align\":\"left\"},\"paper_bgcolor\":\"rgb(17,17,17)\",\"plot_bgcolor\":\"rgb(17,17,17)\",\"polar\":{\"bgcolor\":\"rgb(17,17,17)\",\"angularaxis\":{\"gridcolor\":\"#506784\",\"linecolor\":\"#506784\",\"ticks\":\"\"},\"radialaxis\":{\"gridcolor\":\"#506784\",\"linecolor\":\"#506784\",\"ticks\":\"\"}},\"ternary\":{\"bgcolor\":\"rgb(17,17,17)\",\"aaxis\":{\"gridcolor\":\"#506784\",\"linecolor\":\"#506784\",\"ticks\":\"\"},\"baxis\":{\"gridcolor\":\"#506784\",\"linecolor\":\"#506784\",\"ticks\":\"\"},\"caxis\":{\"gridcolor\":\"#506784\",\"linecolor\":\"#506784\",\"ticks\":\"\"}},\"coloraxis\":{\"colorbar\":{\"outlinewidth\":0,\"ticks\":\"\"}},\"colorscale\":{\"sequential\":[[0.0,\"#0d0887\"],[0.1111111111111111,\"#46039f\"],[0.2222222222222222,\"#7201a8\"],[0.3333333333333333,\"#9c179e\"],[0.4444444444444444,\"#bd3786\"],[0.5555555555555556,\"#d8576b\"],[0.6666666666666666,\"#ed7953\"],[0.7777777777777778,\"#fb9f3a\"],[0.8888888888888888,\"#fdca26\"],[1.0,\"#f0f921\"]],\"sequentialminus\":[[0.0,\"#0d0887\"],[0.1111111111111111,\"#46039f\"],[0.2222222222222222,\"#7201a8\"],[0.3333333333333333,\"#9c179e\"],[0.4444444444444444,\"#bd3786\"],[0.5555555555555556,\"#d8576b\"],[0.6666666666666666,\"#ed7953\"],[0.7777777777777778,\"#fb9f3a\"],[0.8888888888888888,\"#fdca26\"],[1.0,\"#f0f921\"]],\"diverging\":[[0,\"#8e0152\"],[0.1,\"#c51b7d\"],[0.2,\"#de77ae\"],[0.3,\"#f1b6da\"],[0.4,\"#fde0ef\"],[0.5,\"#f7f7f7\"],[0.6,\"#e6f5d0\"],[0.7,\"#b8e186\"],[0.8,\"#7fbc41\"],[0.9,\"#4d9221\"],[1,\"#276419\"]]},\"xaxis\":{\"gridcolor\":\"#283442\",\"linecolor\":\"#506784\",\"ticks\":\"\",\"title\":{\"standoff\":15},\"zerolinecolor\":\"#283442\",\"automargin\":true,\"zerolinewidth\":2},\"yaxis\":{\"gridcolor\":\"#283442\",\"linecolor\":\"#506784\",\"ticks\":\"\",\"title\":{\"standoff\":15},\"zerolinecolor\":\"#283442\",\"automargin\":true,\"zerolinewidth\":2},\"scene\":{\"xaxis\":{\"backgroundcolor\":\"rgb(17,17,17)\",\"gridcolor\":\"#506784\",\"linecolor\":\"#506784\",\"showbackground\":true,\"ticks\":\"\",\"zerolinecolor\":\"#C8D4E3\",\"gridwidth\":2},\"yaxis\":{\"backgroundcolor\":\"rgb(17,17,17)\",\"gridcolor\":\"#506784\",\"linecolor\":\"#506784\",\"showbackground\":true,\"ticks\":\"\",\"zerolinecolor\":\"#C8D4E3\",\"gridwidth\":2},\"zaxis\":{\"backgroundcolor\":\"rgb(17,17,17)\",\"gridcolor\":\"#506784\",\"linecolor\":\"#506784\",\"showbackground\":true,\"ticks\":\"\",\"zerolinecolor\":\"#C8D4E3\",\"gridwidth\":2}},\"shapedefaults\":{\"line\":{\"color\":\"#f2f5fa\"}},\"annotationdefaults\":{\"arrowcolor\":\"#f2f5fa\",\"arrowhead\":0,\"arrowwidth\":1},\"geo\":{\"bgcolor\":\"rgb(17,17,17)\",\"landcolor\":\"rgb(17,17,17)\",\"subunitcolor\":\"#506784\",\"showland\":true,\"showlakes\":true,\"lakecolor\":\"rgb(17,17,17)\"},\"title\":{\"x\":0.05},\"updatemenudefaults\":{\"bgcolor\":\"#506784\",\"borderwidth\":0},\"sliderdefaults\":{\"bgcolor\":\"#C8D4E3\",\"borderwidth\":1,\"bordercolor\":\"rgb(17,17,17)\",\"tickwidth\":0},\"mapbox\":{\"style\":\"dark\"}}},\"xaxis\":{\"anchor\":\"y\",\"domain\":[0.0,0.37]},\"yaxis\":{\"anchor\":\"x\",\"domain\":[0.88,1.0]},\"yaxis2\":{\"anchor\":\"x\",\"overlaying\":\"y\",\"side\":\"right\"},\"xaxis2\":{\"anchor\":\"y3\",\"domain\":[0.5700000000000001,0.9400000000000001]},\"yaxis3\":{\"anchor\":\"x2\",\"domain\":[0.88,1.0]},\"yaxis4\":{\"anchor\":\"x2\",\"overlaying\":\"y3\",\"side\":\"right\"},\"xaxis3\":{\"anchor\":\"y5\",\"domain\":[0.0,0.37]},\"yaxis5\":{\"anchor\":\"x3\",\"domain\":[0.66,0.78]},\"yaxis6\":{\"anchor\":\"x3\",\"overlaying\":\"y5\",\"side\":\"right\"},\"xaxis4\":{\"anchor\":\"y7\",\"domain\":[0.5700000000000001,0.9400000000000001]},\"yaxis7\":{\"anchor\":\"x4\",\"domain\":[0.66,0.78]},\"yaxis8\":{\"anchor\":\"x4\",\"overlaying\":\"y7\",\"side\":\"right\"},\"xaxis5\":{\"anchor\":\"y9\",\"domain\":[0.0,0.37]},\"yaxis9\":{\"anchor\":\"x5\",\"domain\":[0.44,0.56]},\"yaxis10\":{\"anchor\":\"x5\",\"overlaying\":\"y9\",\"side\":\"right\"},\"xaxis6\":{\"anchor\":\"y11\",\"domain\":[0.5700000000000001,0.9400000000000001]},\"yaxis11\":{\"anchor\":\"x6\",\"domain\":[0.44,0.56]},\"yaxis12\":{\"anchor\":\"x6\",\"overlaying\":\"y11\",\"side\":\"right\"},\"xaxis7\":{\"anchor\":\"y13\",\"domain\":[0.0,0.37]},\"yaxis13\":{\"anchor\":\"x7\",\"domain\":[0.22,0.33999999999999997]},\"yaxis14\":{\"anchor\":\"x7\",\"overlaying\":\"y13\",\"side\":\"right\"},\"xaxis8\":{\"anchor\":\"y15\",\"domain\":[0.5700000000000001,0.9400000000000001]},\"yaxis15\":{\"anchor\":\"x8\",\"domain\":[0.22,0.33999999999999997]},\"yaxis16\":{\"anchor\":\"x8\",\"overlaying\":\"y15\",\"side\":\"right\"},\"xaxis9\":{\"anchor\":\"y17\",\"domain\":[0.0,0.37]},\"yaxis17\":{\"anchor\":\"x9\",\"domain\":[0.0,0.12]},\"yaxis18\":{\"anchor\":\"x9\",\"overlaying\":\"y17\",\"side\":\"right\"},\"xaxis10\":{\"anchor\":\"y19\",\"domain\":[0.5700000000000001,0.9400000000000001]},\"yaxis19\":{\"anchor\":\"x10\",\"domain\":[0.0,0.12]},\"yaxis20\":{\"anchor\":\"x10\",\"overlaying\":\"y19\",\"side\":\"right\"},\"annotations\":[{\"font\":{\"size\":16},\"showarrow\":false,\"text\":\"fish_prune_1\",\"x\":0.185,\"xanchor\":\"center\",\"xref\":\"paper\",\"y\":1.0,\"yanchor\":\"bottom\",\"yref\":\"paper\"},{\"font\":{\"size\":16},\"showarrow\":false,\"text\":\"fish_prune_2\",\"x\":0.7550000000000001,\"xanchor\":\"center\",\"xref\":\"paper\",\"y\":1.0,\"yanchor\":\"bottom\",\"yref\":\"paper\"},{\"font\":{\"size\":16},\"showarrow\":false,\"text\":\"fish_prune_3\",\"x\":0.185,\"xanchor\":\"center\",\"xref\":\"paper\",\"y\":0.78,\"yanchor\":\"bottom\",\"yref\":\"paper\"},{\"font\":{\"size\":16},\"showarrow\":false,\"text\":\"fish_prune_4\",\"x\":0.7550000000000001,\"xanchor\":\"center\",\"xref\":\"paper\",\"y\":0.78,\"yanchor\":\"bottom\",\"yref\":\"paper\"},{\"font\":{\"size\":16},\"showarrow\":false,\"text\":\"fish_prune_5\",\"x\":0.185,\"xanchor\":\"center\",\"xref\":\"paper\",\"y\":0.56,\"yanchor\":\"bottom\",\"yref\":\"paper\"},{\"font\":{\"size\":16},\"showarrow\":false,\"text\":\"fish_prune_6\",\"x\":0.7550000000000001,\"xanchor\":\"center\",\"xref\":\"paper\",\"y\":0.56,\"yanchor\":\"bottom\",\"yref\":\"paper\"},{\"font\":{\"size\":16},\"showarrow\":false,\"text\":\"fish_prune_7\",\"x\":0.185,\"xanchor\":\"center\",\"xref\":\"paper\",\"y\":0.33999999999999997,\"yanchor\":\"bottom\",\"yref\":\"paper\"},{\"font\":{\"size\":16},\"showarrow\":false,\"text\":\"fish_prune_8\",\"x\":0.7550000000000001,\"xanchor\":\"center\",\"xref\":\"paper\",\"y\":0.33999999999999997,\"yanchor\":\"bottom\",\"yref\":\"paper\"},{\"font\":{\"size\":16},\"showarrow\":false,\"text\":\"fish_prune_9\",\"x\":0.185,\"xanchor\":\"center\",\"xref\":\"paper\",\"y\":0.12,\"yanchor\":\"bottom\",\"yref\":\"paper\"},{\"font\":{\"size\":16},\"showarrow\":false,\"text\":\"fish_prune_10\",\"x\":0.7550000000000001,\"xanchor\":\"center\",\"xref\":\"paper\",\"y\":0.12,\"yanchor\":\"bottom\",\"yref\":\"paper\"}],\"legend\":{\"orientation\":\"h\",\"x\":0.5,\"y\":-0.1,\"xanchor\":\"center\"},\"title\":{\"text\":\"fish Prune Stages (Epoch 1-20)\"},\"height\":1500,\"width\":1000},                        {\"responsive\": true}                    ).then(function(){\n",
       "                            \n",
       "var gd = document.getElementById('09b1739b-fd4d-4c00-afa5-eea5a61ea400');\n",
       "var x = new MutationObserver(function (mutations, observer) {{\n",
       "        var display = window.getComputedStyle(gd).display;\n",
       "        if (!display || display === 'none') {{\n",
       "            console.log([gd, 'removed!']);\n",
       "            Plotly.purge(gd);\n",
       "            observer.disconnect();\n",
       "        }}\n",
       "}});\n",
       "\n",
       "// Listen for the removal of the full notebook cells\n",
       "var notebookContainer = gd.closest('#notebook-container');\n",
       "if (notebookContainer) {{\n",
       "    x.observe(notebookContainer, {childList: true});\n",
       "}}\n",
       "\n",
       "// Listen for the clearing of the current output cell\n",
       "var outputEl = gd.closest('.output');\n",
       "if (outputEl) {{\n",
       "    x.observe(outputEl, {childList: true});\n",
       "}}\n",
       "\n",
       "                        })                };                });            </script>        </div>"
      ]
     },
     "metadata": {},
     "output_type": "display_data"
    }
   ],
   "source": [
    "\n",
    "train_result(\"fish\", col_num=1, Train_loss=\"Train_loss\", Val_loss=\"Val_loss\", Train_accuracy=\"Train_accuracy\", Val_accuracy=\"Val_accuracy\", Epoch=\"Epoch\")\n",
    "\n",
    "prune_result(\"fish\", col_num=2, Train_loss=\"Train_loss\", Val_loss=\"Val_loss\", Train_accuracy=\"Train_accuracy\", Val_accuracy=\"Val_accuracy\", Epoch=\"Epoch\")\n"
   ]
  }
 ],
 "metadata": {
  "kernelspec": {
   "display_name": "Python 3",
   "language": "python",
   "name": "python3"
  },
  "language_info": {
   "codemirror_mode": {
    "name": "ipython",
    "version": 3
   },
   "file_extension": ".py",
   "mimetype": "text/x-python",
   "name": "python",
   "nbconvert_exporter": "python",
   "pygments_lexer": "ipython3",
   "version": "3.10.12"
  }
 },
 "nbformat": 4,
 "nbformat_minor": 2
}
